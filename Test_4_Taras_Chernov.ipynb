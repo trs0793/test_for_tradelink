{
 "cells": [
  {
   "cell_type": "code",
   "execution_count": 10,
   "id": "55b7511a",
   "metadata": {},
   "outputs": [],
   "source": [
    "import numpy as np\n",
    "import pandas as pd\n",
    "import seaborn as sns\n",
    "import matplotlib.pyplot as plt\n"
   ]
  },
  {
   "cell_type": "code",
   "execution_count": 13,
   "id": "9c343b7f",
   "metadata": {},
   "outputs": [],
   "source": [
    "# Считываем данные\n",
    "df_trades = pd.read_excel('Test_4.xlsx', sheet_name = 'HH_trades.csv')"
   ]
  },
  {
   "cell_type": "code",
   "execution_count": 21,
   "id": "e053d5fc",
   "metadata": {},
   "outputs": [],
   "source": [
    "# Считываем данные\n",
    "df_incomes = pd.read_excel('Test_4.xlsx', sheet_name = 'HH_Incomes')"
   ]
  },
  {
   "cell_type": "code",
   "execution_count": 15,
   "id": "2ef8f9e4",
   "metadata": {},
   "outputs": [
    {
     "data": {
      "text/html": [
       "<div>\n",
       "<style scoped>\n",
       "    .dataframe tbody tr th:only-of-type {\n",
       "        vertical-align: middle;\n",
       "    }\n",
       "\n",
       "    .dataframe tbody tr th {\n",
       "        vertical-align: top;\n",
       "    }\n",
       "\n",
       "    .dataframe thead th {\n",
       "        text-align: right;\n",
       "    }\n",
       "</style>\n",
       "<table border=\"1\" class=\"dataframe\">\n",
       "  <thead>\n",
       "    <tr style=\"text-align: right;\">\n",
       "      <th></th>\n",
       "      <th>_id</th>\n",
       "      <th>accountId</th>\n",
       "      <th>id</th>\n",
       "      <th>side</th>\n",
       "      <th>symbol</th>\n",
       "      <th>buyer</th>\n",
       "      <th>commission</th>\n",
       "      <th>commissionAsset</th>\n",
       "      <th>maker</th>\n",
       "      <th>orderId</th>\n",
       "      <th>positionSide</th>\n",
       "      <th>price</th>\n",
       "      <th>qty</th>\n",
       "      <th>quoteQty</th>\n",
       "      <th>realizedPnl</th>\n",
       "      <th>time</th>\n",
       "    </tr>\n",
       "  </thead>\n",
       "  <tbody>\n",
       "    <tr>\n",
       "      <th>0</th>\n",
       "      <td>65895bb18205d2d83a7ffbeb</td>\n",
       "      <td>de91ba99878f3ec6ac95e6bb327ad02fc5695db2</td>\n",
       "      <td>29568715</td>\n",
       "      <td>BUY</td>\n",
       "      <td>BTCDOMUSDT</td>\n",
       "      <td>True</td>\n",
       "      <td>0.012601</td>\n",
       "      <td>USDT</td>\n",
       "      <td>False</td>\n",
       "      <td>1484071377</td>\n",
       "      <td>BOTH</td>\n",
       "      <td>2100-01-01 00:00:00</td>\n",
       "      <td>0.012</td>\n",
       "      <td>25.2012</td>\n",
       "      <td>0.0</td>\n",
       "      <td>2023-12-25T09:42:20.233Z</td>\n",
       "    </tr>\n",
       "    <tr>\n",
       "      <th>1</th>\n",
       "      <td>65895bb18205d2d83a7ffbec</td>\n",
       "      <td>de91ba99878f3ec6ac95e6bb327ad02fc5695db2</td>\n",
       "      <td>29568716</td>\n",
       "      <td>BUY</td>\n",
       "      <td>BTCDOMUSDT</td>\n",
       "      <td>True</td>\n",
       "      <td>0.011551</td>\n",
       "      <td>USDT</td>\n",
       "      <td>False</td>\n",
       "      <td>1484071377</td>\n",
       "      <td>BOTH</td>\n",
       "      <td>2100-01-01 00:00:00</td>\n",
       "      <td>0.011</td>\n",
       "      <td>23.1011</td>\n",
       "      <td>0.0</td>\n",
       "      <td>2023-12-25T09:42:20.233Z</td>\n",
       "    </tr>\n",
       "    <tr>\n",
       "      <th>2</th>\n",
       "      <td>65895bb18205d2d83a7ffbed</td>\n",
       "      <td>de91ba99878f3ec6ac95e6bb327ad02fc5695db2</td>\n",
       "      <td>29568717</td>\n",
       "      <td>BUY</td>\n",
       "      <td>BTCDOMUSDT</td>\n",
       "      <td>True</td>\n",
       "      <td>0.003150</td>\n",
       "      <td>USDT</td>\n",
       "      <td>False</td>\n",
       "      <td>1484071377</td>\n",
       "      <td>BOTH</td>\n",
       "      <td>2100-01-01 00:00:00</td>\n",
       "      <td>0.003</td>\n",
       "      <td>3003-06-01 00:00:00</td>\n",
       "      <td>0.0</td>\n",
       "      <td>2023-12-25T09:42:20.233Z</td>\n",
       "    </tr>\n",
       "    <tr>\n",
       "      <th>3</th>\n",
       "      <td>65895bb18205d2d83a7ffbee</td>\n",
       "      <td>de91ba99878f3ec6ac95e6bb327ad02fc5695db2</td>\n",
       "      <td>29568718</td>\n",
       "      <td>BUY</td>\n",
       "      <td>BTCDOMUSDT</td>\n",
       "      <td>True</td>\n",
       "      <td>0.490373</td>\n",
       "      <td>USDT</td>\n",
       "      <td>False</td>\n",
       "      <td>1484071377</td>\n",
       "      <td>BOTH</td>\n",
       "      <td>2100-01-01 00:00:00</td>\n",
       "      <td>0.467</td>\n",
       "      <td>980.7467</td>\n",
       "      <td>0.0</td>\n",
       "      <td>2023-12-25T09:42:20.233Z</td>\n",
       "    </tr>\n",
       "    <tr>\n",
       "      <th>4</th>\n",
       "      <td>65895bb18205d2d83a7ffbef</td>\n",
       "      <td>de91ba99878f3ec6ac95e6bb327ad02fc5695db2</td>\n",
       "      <td>29568719</td>\n",
       "      <td>BUY</td>\n",
       "      <td>BTCDOMUSDT</td>\n",
       "      <td>True</td>\n",
       "      <td>0.161715</td>\n",
       "      <td>USDT</td>\n",
       "      <td>False</td>\n",
       "      <td>1484071377</td>\n",
       "      <td>BOTH</td>\n",
       "      <td>2100-02-01 00:00:00</td>\n",
       "      <td>0.154</td>\n",
       "      <td>323.4308</td>\n",
       "      <td>0.0</td>\n",
       "      <td>2023-12-25T09:42:20.233Z</td>\n",
       "    </tr>\n",
       "  </tbody>\n",
       "</table>\n",
       "</div>"
      ],
      "text/plain": [
       "                        _id                                 accountId  \\\n",
       "0  65895bb18205d2d83a7ffbeb  de91ba99878f3ec6ac95e6bb327ad02fc5695db2   \n",
       "1  65895bb18205d2d83a7ffbec  de91ba99878f3ec6ac95e6bb327ad02fc5695db2   \n",
       "2  65895bb18205d2d83a7ffbed  de91ba99878f3ec6ac95e6bb327ad02fc5695db2   \n",
       "3  65895bb18205d2d83a7ffbee  de91ba99878f3ec6ac95e6bb327ad02fc5695db2   \n",
       "4  65895bb18205d2d83a7ffbef  de91ba99878f3ec6ac95e6bb327ad02fc5695db2   \n",
       "\n",
       "         id side      symbol  buyer  commission commissionAsset  maker  \\\n",
       "0  29568715  BUY  BTCDOMUSDT   True    0.012601            USDT  False   \n",
       "1  29568716  BUY  BTCDOMUSDT   True    0.011551            USDT  False   \n",
       "2  29568717  BUY  BTCDOMUSDT   True    0.003150            USDT  False   \n",
       "3  29568718  BUY  BTCDOMUSDT   True    0.490373            USDT  False   \n",
       "4  29568719  BUY  BTCDOMUSDT   True    0.161715            USDT  False   \n",
       "\n",
       "      orderId positionSide                price    qty             quoteQty  \\\n",
       "0  1484071377         BOTH  2100-01-01 00:00:00  0.012              25.2012   \n",
       "1  1484071377         BOTH  2100-01-01 00:00:00  0.011              23.1011   \n",
       "2  1484071377         BOTH  2100-01-01 00:00:00  0.003  3003-06-01 00:00:00   \n",
       "3  1484071377         BOTH  2100-01-01 00:00:00  0.467             980.7467   \n",
       "4  1484071377         BOTH  2100-02-01 00:00:00  0.154             323.4308   \n",
       "\n",
       "   realizedPnl                      time  \n",
       "0          0.0  2023-12-25T09:42:20.233Z  \n",
       "1          0.0  2023-12-25T09:42:20.233Z  \n",
       "2          0.0  2023-12-25T09:42:20.233Z  \n",
       "3          0.0  2023-12-25T09:42:20.233Z  \n",
       "4          0.0  2023-12-25T09:42:20.233Z  "
      ]
     },
     "execution_count": 15,
     "metadata": {},
     "output_type": "execute_result"
    }
   ],
   "source": [
    "df_trades.head()"
   ]
  },
  {
   "cell_type": "code",
   "execution_count": 27,
   "id": "955733ed",
   "metadata": {},
   "outputs": [
    {
     "data": {
      "text/html": [
       "<div>\n",
       "<style scoped>\n",
       "    .dataframe tbody tr th:only-of-type {\n",
       "        vertical-align: middle;\n",
       "    }\n",
       "\n",
       "    .dataframe tbody tr th {\n",
       "        vertical-align: top;\n",
       "    }\n",
       "\n",
       "    .dataframe thead th {\n",
       "        text-align: right;\n",
       "    }\n",
       "</style>\n",
       "<table border=\"1\" class=\"dataframe\">\n",
       "  <thead>\n",
       "    <tr style=\"text-align: right;\">\n",
       "      <th></th>\n",
       "      <th>_id</th>\n",
       "      <th>accountId</th>\n",
       "      <th>asset</th>\n",
       "      <th>incomeType</th>\n",
       "      <th>symbol</th>\n",
       "      <th>tranId</th>\n",
       "      <th>income</th>\n",
       "      <th>info</th>\n",
       "      <th>time</th>\n",
       "      <th>tradeId</th>\n",
       "    </tr>\n",
       "  </thead>\n",
       "  <tbody>\n",
       "    <tr>\n",
       "      <th>0</th>\n",
       "      <td>658935e88205d2d83a676055</td>\n",
       "      <td>de91ba99878f3ec6ac95e6bb327ad02fc5695db2</td>\n",
       "      <td>USDT</td>\n",
       "      <td>TRANSFER</td>\n",
       "      <td>NaN</td>\n",
       "      <td>150011656834</td>\n",
       "      <td>3000.000000</td>\n",
       "      <td>TRANSFER</td>\n",
       "      <td>2023-12-24T06:44:01.000Z</td>\n",
       "      <td>NaN</td>\n",
       "    </tr>\n",
       "    <tr>\n",
       "      <th>1</th>\n",
       "      <td>658935e88205d2d83a67605e</td>\n",
       "      <td>de91ba99878f3ec6ac95e6bb327ad02fc5695db2</td>\n",
       "      <td>USDT</td>\n",
       "      <td>TRANSFER</td>\n",
       "      <td>NaN</td>\n",
       "      <td>150121782799</td>\n",
       "      <td>-1000.000000</td>\n",
       "      <td>TRANSFER</td>\n",
       "      <td>2023-12-25T05:17:15.000Z</td>\n",
       "      <td>NaN</td>\n",
       "    </tr>\n",
       "    <tr>\n",
       "      <th>2</th>\n",
       "      <td>65894b478205d2d83a747597</td>\n",
       "      <td>de91ba99878f3ec6ac95e6bb327ad02fc5695db2</td>\n",
       "      <td>USDT</td>\n",
       "      <td>TRANSFER</td>\n",
       "      <td>NaN</td>\n",
       "      <td>150128726022</td>\n",
       "      <td>1000.000000</td>\n",
       "      <td>TRANSFER</td>\n",
       "      <td>2023-12-25T07:01:19.000Z</td>\n",
       "      <td>NaN</td>\n",
       "    </tr>\n",
       "    <tr>\n",
       "      <th>3</th>\n",
       "      <td>658967858205d2d83a8e6f85</td>\n",
       "      <td>de91ba99878f3ec6ac95e6bb327ad02fc5695db2</td>\n",
       "      <td>USDT</td>\n",
       "      <td>COMMISSION</td>\n",
       "      <td>BTCDOMUSDT</td>\n",
       "      <td>9248129568717</td>\n",
       "      <td>-0.003150</td>\n",
       "      <td>29568717</td>\n",
       "      <td>2023-12-25T09:42:20.000Z</td>\n",
       "      <td>29568717.0</td>\n",
       "    </tr>\n",
       "    <tr>\n",
       "      <th>4</th>\n",
       "      <td>658967858205d2d83a8e6f83</td>\n",
       "      <td>de91ba99878f3ec6ac95e6bb327ad02fc5695db2</td>\n",
       "      <td>USDT</td>\n",
       "      <td>COMMISSION</td>\n",
       "      <td>BTCDOMUSDT</td>\n",
       "      <td>9248129568715</td>\n",
       "      <td>-0.012601</td>\n",
       "      <td>29568715</td>\n",
       "      <td>2023-12-25T09:42:20.000Z</td>\n",
       "      <td>29568715.0</td>\n",
       "    </tr>\n",
       "  </tbody>\n",
       "</table>\n",
       "</div>"
      ],
      "text/plain": [
       "                        _id                                 accountId asset  \\\n",
       "0  658935e88205d2d83a676055  de91ba99878f3ec6ac95e6bb327ad02fc5695db2  USDT   \n",
       "1  658935e88205d2d83a67605e  de91ba99878f3ec6ac95e6bb327ad02fc5695db2  USDT   \n",
       "2  65894b478205d2d83a747597  de91ba99878f3ec6ac95e6bb327ad02fc5695db2  USDT   \n",
       "3  658967858205d2d83a8e6f85  de91ba99878f3ec6ac95e6bb327ad02fc5695db2  USDT   \n",
       "4  658967858205d2d83a8e6f83  de91ba99878f3ec6ac95e6bb327ad02fc5695db2  USDT   \n",
       "\n",
       "   incomeType      symbol         tranId       income      info  \\\n",
       "0    TRANSFER         NaN   150011656834  3000.000000  TRANSFER   \n",
       "1    TRANSFER         NaN   150121782799 -1000.000000  TRANSFER   \n",
       "2    TRANSFER         NaN   150128726022  1000.000000  TRANSFER   \n",
       "3  COMMISSION  BTCDOMUSDT  9248129568717    -0.003150  29568717   \n",
       "4  COMMISSION  BTCDOMUSDT  9248129568715    -0.012601  29568715   \n",
       "\n",
       "                       time     tradeId  \n",
       "0  2023-12-24T06:44:01.000Z         NaN  \n",
       "1  2023-12-25T05:17:15.000Z         NaN  \n",
       "2  2023-12-25T07:01:19.000Z         NaN  \n",
       "3  2023-12-25T09:42:20.000Z  29568717.0  \n",
       "4  2023-12-25T09:42:20.000Z  29568715.0  "
      ]
     },
     "execution_count": 27,
     "metadata": {},
     "output_type": "execute_result"
    }
   ],
   "source": [
    "df_incomes.head()"
   ]
  },
  {
   "cell_type": "code",
   "execution_count": 17,
   "id": "7d617161",
   "metadata": {},
   "outputs": [
    {
     "data": {
      "text/plain": [
       "_id                 object\n",
       "accountId           object\n",
       "id                   int64\n",
       "side                object\n",
       "symbol              object\n",
       "buyer                 bool\n",
       "commission         float64\n",
       "commissionAsset     object\n",
       "maker                 bool\n",
       "orderId              int64\n",
       "positionSide        object\n",
       "price               object\n",
       "qty                float64\n",
       "quoteQty            object\n",
       "realizedPnl        float64\n",
       "time                object\n",
       "dtype: object"
      ]
     },
     "execution_count": 17,
     "metadata": {},
     "output_type": "execute_result"
    }
   ],
   "source": [
    "# Смортим типы данных\n",
    "df_trades.dtypes"
   ]
  },
  {
   "cell_type": "code",
   "execution_count": 26,
   "id": "800c6451",
   "metadata": {},
   "outputs": [
    {
     "data": {
      "text/plain": [
       "_id                        object\n",
       "accountId                  object\n",
       "asset                      object\n",
       "incomeType                 object\n",
       "symbol                     object\n",
       "tranId                      int64\n",
       "income                    float64\n",
       "info                       object\n",
       "time          datetime64[ns, UTC]\n",
       "tradeId                   float64\n",
       "dtype: object"
      ]
     },
     "execution_count": 26,
     "metadata": {},
     "output_type": "execute_result"
    }
   ],
   "source": [
    "# Смортим типы данных\n",
    "df_incomes.dtypes"
   ]
  },
  {
   "cell_type": "code",
   "execution_count": 20,
   "id": "b3f19665",
   "metadata": {},
   "outputs": [
    {
     "data": {
      "text/plain": [
       "1"
      ]
     },
     "execution_count": 20,
     "metadata": {},
     "output_type": "execute_result"
    }
   ],
   "source": [
    "# Смотрим уникальные значения по ID счета\n",
    "df_incomes.accountId.nunique()"
   ]
  },
  {
   "cell_type": "markdown",
   "id": "d90996a1",
   "metadata": {},
   "source": [
    "### Задание 1 \n",
    "Построение линейного графика роста реализованного баланса"
   ]
  },
  {
   "cell_type": "code",
   "execution_count": 25,
   "id": "29462953",
   "metadata": {},
   "outputs": [],
   "source": [
    "# Преобразование time в datetime\n",
    "df_incomes['time'] = pd.to_datetime(df_incomes['time'], unit='ms') "
   ]
  },
  {
   "cell_type": "code",
   "execution_count": 28,
   "id": "10e7c33a",
   "metadata": {},
   "outputs": [],
   "source": [
    "# Округление  даты до дня\n",
    "df_incomes['date'] = df_incomes['time'].dt.date\n"
   ]
  },
  {
   "cell_type": "code",
   "execution_count": 33,
   "id": "61d49b22",
   "metadata": {},
   "outputs": [
    {
     "data": {
      "text/plain": [
       "20"
      ]
     },
     "execution_count": 33,
     "metadata": {},
     "output_type": "execute_result"
    }
   ],
   "source": [
    "# Проверка на количество дат\n",
    "df_incomes.date.nunique()"
   ]
  },
  {
   "cell_type": "code",
   "execution_count": 52,
   "id": "a62b2795",
   "metadata": {},
   "outputs": [],
   "source": [
    "# Суммирование колонки income групируя по дням\n",
    "daily_income = df_incomes.groupby('date')['income'].sum().reset_index(name='sum_income')"
   ]
  },
  {
   "cell_type": "code",
   "execution_count": 41,
   "id": "555df4a7",
   "metadata": {},
   "outputs": [
    {
     "data": {
      "text/html": [
       "<div>\n",
       "<style scoped>\n",
       "    .dataframe tbody tr th:only-of-type {\n",
       "        vertical-align: middle;\n",
       "    }\n",
       "\n",
       "    .dataframe tbody tr th {\n",
       "        vertical-align: top;\n",
       "    }\n",
       "\n",
       "    .dataframe thead th {\n",
       "        text-align: right;\n",
       "    }\n",
       "</style>\n",
       "<table border=\"1\" class=\"dataframe\">\n",
       "  <thead>\n",
       "    <tr style=\"text-align: right;\">\n",
       "      <th></th>\n",
       "      <th>date</th>\n",
       "      <th>sum_income</th>\n",
       "    </tr>\n",
       "  </thead>\n",
       "  <tbody>\n",
       "    <tr>\n",
       "      <th>0</th>\n",
       "      <td>2023-12-24</td>\n",
       "      <td>3000.000000</td>\n",
       "    </tr>\n",
       "    <tr>\n",
       "      <th>1</th>\n",
       "      <td>2023-12-25</td>\n",
       "      <td>-1.116253</td>\n",
       "    </tr>\n",
       "    <tr>\n",
       "      <th>2</th>\n",
       "      <td>2023-12-26</td>\n",
       "      <td>-4.731519</td>\n",
       "    </tr>\n",
       "    <tr>\n",
       "      <th>3</th>\n",
       "      <td>2023-12-27</td>\n",
       "      <td>-0.982503</td>\n",
       "    </tr>\n",
       "    <tr>\n",
       "      <th>4</th>\n",
       "      <td>2023-12-28</td>\n",
       "      <td>-36.164797</td>\n",
       "    </tr>\n",
       "  </tbody>\n",
       "</table>\n",
       "</div>"
      ],
      "text/plain": [
       "         date   sum_income\n",
       "0  2023-12-24  3000.000000\n",
       "1  2023-12-25    -1.116253\n",
       "2  2023-12-26    -4.731519\n",
       "3  2023-12-27    -0.982503\n",
       "4  2023-12-28   -36.164797"
      ]
     },
     "execution_count": 41,
     "metadata": {},
     "output_type": "execute_result"
    }
   ],
   "source": [
    "daily_income.head()"
   ]
  },
  {
   "cell_type": "code",
   "execution_count": 53,
   "id": "40a10e8e",
   "metadata": {},
   "outputs": [],
   "source": [
    "# Расчет кумулятивной суммы по income\n",
    "daily_income['cumulative_income'] = daily_income['sum_income'].cumsum()"
   ]
  },
  {
   "cell_type": "code",
   "execution_count": 54,
   "id": "2b516468",
   "metadata": {},
   "outputs": [
    {
     "data": {
      "text/html": [
       "<div>\n",
       "<style scoped>\n",
       "    .dataframe tbody tr th:only-of-type {\n",
       "        vertical-align: middle;\n",
       "    }\n",
       "\n",
       "    .dataframe tbody tr th {\n",
       "        vertical-align: top;\n",
       "    }\n",
       "\n",
       "    .dataframe thead th {\n",
       "        text-align: right;\n",
       "    }\n",
       "</style>\n",
       "<table border=\"1\" class=\"dataframe\">\n",
       "  <thead>\n",
       "    <tr style=\"text-align: right;\">\n",
       "      <th></th>\n",
       "      <th>date</th>\n",
       "      <th>sum_income</th>\n",
       "      <th>cumulative_income</th>\n",
       "    </tr>\n",
       "  </thead>\n",
       "  <tbody>\n",
       "    <tr>\n",
       "      <th>0</th>\n",
       "      <td>2023-12-24</td>\n",
       "      <td>3000.000000</td>\n",
       "      <td>3000.000000</td>\n",
       "    </tr>\n",
       "    <tr>\n",
       "      <th>1</th>\n",
       "      <td>2023-12-25</td>\n",
       "      <td>-1.116253</td>\n",
       "      <td>2998.883747</td>\n",
       "    </tr>\n",
       "    <tr>\n",
       "      <th>2</th>\n",
       "      <td>2023-12-26</td>\n",
       "      <td>-4.731519</td>\n",
       "      <td>2994.152228</td>\n",
       "    </tr>\n",
       "    <tr>\n",
       "      <th>3</th>\n",
       "      <td>2023-12-27</td>\n",
       "      <td>-0.982503</td>\n",
       "      <td>2993.169725</td>\n",
       "    </tr>\n",
       "    <tr>\n",
       "      <th>4</th>\n",
       "      <td>2023-12-28</td>\n",
       "      <td>-36.164797</td>\n",
       "      <td>2957.004927</td>\n",
       "    </tr>\n",
       "  </tbody>\n",
       "</table>\n",
       "</div>"
      ],
      "text/plain": [
       "         date   sum_income  cumulative_income\n",
       "0  2023-12-24  3000.000000        3000.000000\n",
       "1  2023-12-25    -1.116253        2998.883747\n",
       "2  2023-12-26    -4.731519        2994.152228\n",
       "3  2023-12-27    -0.982503        2993.169725\n",
       "4  2023-12-28   -36.164797        2957.004927"
      ]
     },
     "execution_count": 54,
     "metadata": {},
     "output_type": "execute_result"
    }
   ],
   "source": [
    "daily_income.head()"
   ]
  },
  {
   "cell_type": "code",
   "execution_count": 45,
   "id": "974bf777",
   "metadata": {},
   "outputs": [
    {
     "data": {
      "image/png": "[encoded data removed]",
      "text/plain": [
       "<Figure size 1000x600 with 1 Axes>"
      ]
     },
     "metadata": {},
     "output_type": "display_data"
    }
   ],
   "source": [
    "# Построение линейного графика\n",
    "plt.figure(figsize=(10, 6))\n",
    "plt.plot(daily_income['date'], daily_income['cumulative_income'], marker='o')\n",
    "plt.title('Линейный график роста реализованного баланса')\n",
    "plt.xlabel('Дата')\n",
    "plt.ylabel('Реализованный баланс')\n",
    "plt.grid(True)\n",
    "plt.xticks(rotation=45)\n",
    "plt.show()"
   ]
  },
  {
   "cell_type": "markdown",
   "id": "26f6ad1a",
   "metadata": {},
   "source": [
    "## Вывод\n",
    "\n",
    "1) График реализованного баланса. На этом графике мы увидели что с 24 декабря по 31 декабря происходит снижение баланса и с 1 января баланс начинает увеличиваться вплоть до 10 января. Причиной могут быть предновогодние события. \n"
   ]
  },
  {
   "cell_type": "markdown",
   "id": "97a693ee",
   "metadata": {},
   "source": [
    "### Задание 2\n",
    "Построение линейного графика роста реализованной прибыли в % (формула сложного процента)"
   ]
  },
  {
   "cell_type": "code",
   "execution_count": 203,
   "id": "05d89856",
   "metadata": {},
   "outputs": [],
   "source": [
    "# Установка начального капитала, я посмотрел, что 3000 это был трансфер, поэтому будем считать это начальным капиталом\n",
    "initial_capital = 3000"
   ]
  },
  {
   "cell_type": "code",
   "execution_count": 204,
   "id": "76245bf6",
   "metadata": {},
   "outputs": [],
   "source": [
    "daily_income['capital'] = initial_capital"
   ]
  },
  {
   "cell_type": "code",
   "execution_count": 205,
   "id": "1b0927cc",
   "metadata": {},
   "outputs": [],
   "source": [
    "# Посчитаем прибыль, начиная со второй строки, так как первый элемент считается как начальный капитал и это 3000\n",
    "for i in range(1, len(daily_income)):\n",
    "    daily_income.loc[i, 'capital'] = daily_income.loc[i-1, 'capital'] * (1 + daily_income.loc[i, 'sum_income'] / daily_income.loc[i-1, 'capital'])\n",
    "    "
   ]
  },
  {
   "cell_type": "code",
   "execution_count": 206,
   "id": "49e1de4a",
   "metadata": {},
   "outputs": [],
   "source": [
    "# Рассчитываем прирост капитала в процентах относительно начального\n",
    "daily_income['cumulative_growth_pct'] = (daily_income['capital'] / initial_capital - 1) * 100"
   ]
  },
  {
   "cell_type": "code",
   "execution_count": 211,
   "id": "fef01a11",
   "metadata": {},
   "outputs": [
    {
     "data": {
      "text/html": [
       "<div>\n",
       "<style scoped>\n",
       "    .dataframe tbody tr th:only-of-type {\n",
       "        vertical-align: middle;\n",
       "    }\n",
       "\n",
       "    .dataframe tbody tr th {\n",
       "        vertical-align: top;\n",
       "    }\n",
       "\n",
       "    .dataframe thead th {\n",
       "        text-align: right;\n",
       "    }\n",
       "</style>\n",
       "<table border=\"1\" class=\"dataframe\">\n",
       "  <thead>\n",
       "    <tr style=\"text-align: right;\">\n",
       "      <th></th>\n",
       "      <th>date</th>\n",
       "      <th>sum_income</th>\n",
       "      <th>cumulative_income</th>\n",
       "      <th>capital</th>\n",
       "      <th>cumulative_growth_pct</th>\n",
       "    </tr>\n",
       "  </thead>\n",
       "  <tbody>\n",
       "    <tr>\n",
       "      <th>17</th>\n",
       "      <td>2024-01-10</td>\n",
       "      <td>2.621735</td>\n",
       "      <td>3221.368878</td>\n",
       "      <td>3221.368878</td>\n",
       "      <td>7.378963</td>\n",
       "    </tr>\n",
       "    <tr>\n",
       "      <th>16</th>\n",
       "      <td>2024-01-09</td>\n",
       "      <td>29.821324</td>\n",
       "      <td>3218.747143</td>\n",
       "      <td>3218.747143</td>\n",
       "      <td>7.291571</td>\n",
       "    </tr>\n",
       "    <tr>\n",
       "      <th>15</th>\n",
       "      <td>2024-01-08</td>\n",
       "      <td>58.317384</td>\n",
       "      <td>3188.925819</td>\n",
       "      <td>3188.925819</td>\n",
       "      <td>6.297527</td>\n",
       "    </tr>\n",
       "    <tr>\n",
       "      <th>18</th>\n",
       "      <td>2024-01-11</td>\n",
       "      <td>-49.643813</td>\n",
       "      <td>3171.725066</td>\n",
       "      <td>3171.725066</td>\n",
       "      <td>5.724169</td>\n",
       "    </tr>\n",
       "    <tr>\n",
       "      <th>19</th>\n",
       "      <td>2024-01-12</td>\n",
       "      <td>-4.388693</td>\n",
       "      <td>3167.336373</td>\n",
       "      <td>3167.336373</td>\n",
       "      <td>5.577879</td>\n",
       "    </tr>\n",
       "  </tbody>\n",
       "</table>\n",
       "</div>"
      ],
      "text/plain": [
       "          date  sum_income  cumulative_income      capital  \\\n",
       "17  2024-01-10    2.621735        3221.368878  3221.368878   \n",
       "16  2024-01-09   29.821324        3218.747143  3218.747143   \n",
       "15  2024-01-08   58.317384        3188.925819  3188.925819   \n",
       "18  2024-01-11  -49.643813        3171.725066  3171.725066   \n",
       "19  2024-01-12   -4.388693        3167.336373  3167.336373   \n",
       "\n",
       "    cumulative_growth_pct  \n",
       "17               7.378963  \n",
       "16               7.291571  \n",
       "15               6.297527  \n",
       "18               5.724169  \n",
       "19               5.577879  "
      ]
     },
     "execution_count": 211,
     "metadata": {},
     "output_type": "execute_result"
    }
   ],
   "source": [
    "# Посмотрим на данные и отсортируем по убыванию % прибыли\n",
    "daily_income[['date', 'sum_income', 'cumulative_income', 'capital', 'cumulative_growth_pct' ]]\\\n",
    ".sort_values('cumulative_growth_pct', ascending=False).head()"
   ]
  },
  {
   "cell_type": "code",
   "execution_count": 207,
   "id": "6489a288",
   "metadata": {},
   "outputs": [
    {
     "data": {
      "image/png": "[encoded data removed]",
      "text/plain": [
       "<Figure size 1000x600 with 1 Axes>"
      ]
     },
     "metadata": {},
     "output_type": "display_data"
    }
   ],
   "source": [
    "# Построение линейного графика\n",
    "plt.figure(figsize=(10, 6))\n",
    "plt.plot(daily_income['date'], daily_income['cumulative_growth_pct'], marker='o')\n",
    "plt.title('Линейный график роста реализованной прибыли (%)')\n",
    "plt.xlabel('Дата')\n",
    "plt.ylabel('Рост прибыли (%)')\n",
    "plt.grid(True)\n",
    "plt.xticks(rotation=45)\n",
    "\n",
    "plt.show()"
   ]
  },
  {
   "cell_type": "markdown",
   "id": "98f4cf26",
   "metadata": {},
   "source": [
    "## Вывод\n",
    "\n",
    "2) График реализованной прибыли в % . На этом графике мы видим ту же динамику, что естесственно, и максимальная прибыль = 7.39 и была она 10 января.\n"
   ]
  },
  {
   "cell_type": "markdown",
   "id": "74ef9eed",
   "metadata": {},
   "source": [
    "### Задание 3\n",
    "Построение линейного графика реализованной просадки"
   ]
  },
  {
   "cell_type": "code",
   "execution_count": null,
   "id": "257290ce",
   "metadata": {},
   "outputs": [],
   "source": [
    "# Посчитаем максимум капитала до текущего дня для каждого дня\n"
   ]
  },
  {
   "cell_type": "code",
   "execution_count": 76,
   "id": "032d64b8",
   "metadata": {},
   "outputs": [],
   "source": [
    "daily_income['max_capital'] = daily_income['cumulative_income'].cummax()"
   ]
  },
  {
   "cell_type": "code",
   "execution_count": 79,
   "id": "54c7dadf",
   "metadata": {},
   "outputs": [
    {
     "data": {
      "text/html": [
       "<div>\n",
       "<style scoped>\n",
       "    .dataframe tbody tr th:only-of-type {\n",
       "        vertical-align: middle;\n",
       "    }\n",
       "\n",
       "    .dataframe tbody tr th {\n",
       "        vertical-align: top;\n",
       "    }\n",
       "\n",
       "    .dataframe thead th {\n",
       "        text-align: right;\n",
       "    }\n",
       "</style>\n",
       "<table border=\"1\" class=\"dataframe\">\n",
       "  <thead>\n",
       "    <tr style=\"text-align: right;\">\n",
       "      <th></th>\n",
       "      <th>date</th>\n",
       "      <th>sum_income</th>\n",
       "      <th>cumulative_income</th>\n",
       "      <th>capital</th>\n",
       "      <th>cumulative_growth_pct</th>\n",
       "      <th>max_capital</th>\n",
       "    </tr>\n",
       "  </thead>\n",
       "  <tbody>\n",
       "    <tr>\n",
       "      <th>0</th>\n",
       "      <td>2023-12-24</td>\n",
       "      <td>3000.000000</td>\n",
       "      <td>3000.000000</td>\n",
       "      <td>3100.000000</td>\n",
       "      <td>0.000000</td>\n",
       "      <td>3000.0</td>\n",
       "    </tr>\n",
       "    <tr>\n",
       "      <th>1</th>\n",
       "      <td>2023-12-25</td>\n",
       "      <td>-1.116253</td>\n",
       "      <td>2998.883747</td>\n",
       "      <td>3098.883747</td>\n",
       "      <td>-0.036008</td>\n",
       "      <td>3000.0</td>\n",
       "    </tr>\n",
       "    <tr>\n",
       "      <th>2</th>\n",
       "      <td>2023-12-26</td>\n",
       "      <td>-4.731519</td>\n",
       "      <td>2994.152228</td>\n",
       "      <td>3094.152228</td>\n",
       "      <td>-0.188638</td>\n",
       "      <td>3000.0</td>\n",
       "    </tr>\n",
       "    <tr>\n",
       "      <th>3</th>\n",
       "      <td>2023-12-27</td>\n",
       "      <td>-0.982503</td>\n",
       "      <td>2993.169725</td>\n",
       "      <td>3093.169725</td>\n",
       "      <td>-0.220331</td>\n",
       "      <td>3000.0</td>\n",
       "    </tr>\n",
       "    <tr>\n",
       "      <th>4</th>\n",
       "      <td>2023-12-28</td>\n",
       "      <td>-36.164797</td>\n",
       "      <td>2957.004927</td>\n",
       "      <td>3057.004927</td>\n",
       "      <td>-1.386938</td>\n",
       "      <td>3000.0</td>\n",
       "    </tr>\n",
       "  </tbody>\n",
       "</table>\n",
       "</div>"
      ],
      "text/plain": [
       "         date   sum_income  cumulative_income      capital  \\\n",
       "0  2023-12-24  3000.000000        3000.000000  3100.000000   \n",
       "1  2023-12-25    -1.116253        2998.883747  3098.883747   \n",
       "2  2023-12-26    -4.731519        2994.152228  3094.152228   \n",
       "3  2023-12-27    -0.982503        2993.169725  3093.169725   \n",
       "4  2023-12-28   -36.164797        2957.004927  3057.004927   \n",
       "\n",
       "   cumulative_growth_pct  max_capital  \n",
       "0               0.000000       3000.0  \n",
       "1              -0.036008       3000.0  \n",
       "2              -0.188638       3000.0  \n",
       "3              -0.220331       3000.0  \n",
       "4              -1.386938       3000.0  "
      ]
     },
     "execution_count": 79,
     "metadata": {},
     "output_type": "execute_result"
    }
   ],
   "source": [
    "daily_income.head()"
   ]
  },
  {
   "cell_type": "code",
   "execution_count": 81,
   "id": "d4516369",
   "metadata": {},
   "outputs": [],
   "source": [
    "# Посчитаем просадку\n",
    "daily_income['drawdown'] = (daily_income['max_capital'] - daily_income['cumulative_income']) / daily_income['max_capital'] * 100"
   ]
  },
  {
   "cell_type": "code",
   "execution_count": 215,
   "id": "a75c60fc",
   "metadata": {},
   "outputs": [
    {
     "data": {
      "text/html": [
       "<div>\n",
       "<style scoped>\n",
       "    .dataframe tbody tr th:only-of-type {\n",
       "        vertical-align: middle;\n",
       "    }\n",
       "\n",
       "    .dataframe tbody tr th {\n",
       "        vertical-align: top;\n",
       "    }\n",
       "\n",
       "    .dataframe thead th {\n",
       "        text-align: right;\n",
       "    }\n",
       "</style>\n",
       "<table border=\"1\" class=\"dataframe\">\n",
       "  <thead>\n",
       "    <tr style=\"text-align: right;\">\n",
       "      <th></th>\n",
       "      <th>date</th>\n",
       "      <th>sum_income</th>\n",
       "      <th>cumulative_income</th>\n",
       "      <th>capital</th>\n",
       "      <th>cumulative_growth_pct</th>\n",
       "      <th>drawdown</th>\n",
       "    </tr>\n",
       "  </thead>\n",
       "  <tbody>\n",
       "    <tr>\n",
       "      <th>7</th>\n",
       "      <td>2023-12-31</td>\n",
       "      <td>-1.258194</td>\n",
       "      <td>2942.486871</td>\n",
       "      <td>2942.486871</td>\n",
       "      <td>-1.917104</td>\n",
       "      <td>1.917104</td>\n",
       "    </tr>\n",
       "    <tr>\n",
       "      <th>6</th>\n",
       "      <td>2023-12-30</td>\n",
       "      <td>-3.129952</td>\n",
       "      <td>2943.745066</td>\n",
       "      <td>2943.745066</td>\n",
       "      <td>-1.875164</td>\n",
       "      <td>1.875164</td>\n",
       "    </tr>\n",
       "    <tr>\n",
       "      <th>5</th>\n",
       "      <td>2023-12-29</td>\n",
       "      <td>-10.129910</td>\n",
       "      <td>2946.875018</td>\n",
       "      <td>2946.875018</td>\n",
       "      <td>-1.770833</td>\n",
       "      <td>1.770833</td>\n",
       "    </tr>\n",
       "    <tr>\n",
       "      <th>19</th>\n",
       "      <td>2024-01-12</td>\n",
       "      <td>-4.388693</td>\n",
       "      <td>3167.336373</td>\n",
       "      <td>3167.336373</td>\n",
       "      <td>5.577879</td>\n",
       "      <td>1.677315</td>\n",
       "    </tr>\n",
       "    <tr>\n",
       "      <th>18</th>\n",
       "      <td>2024-01-11</td>\n",
       "      <td>-49.643813</td>\n",
       "      <td>3171.725066</td>\n",
       "      <td>3171.725066</td>\n",
       "      <td>5.724169</td>\n",
       "      <td>1.541078</td>\n",
       "    </tr>\n",
       "  </tbody>\n",
       "</table>\n",
       "</div>"
      ],
      "text/plain": [
       "          date  sum_income  cumulative_income      capital  \\\n",
       "7   2023-12-31   -1.258194        2942.486871  2942.486871   \n",
       "6   2023-12-30   -3.129952        2943.745066  2943.745066   \n",
       "5   2023-12-29  -10.129910        2946.875018  2946.875018   \n",
       "19  2024-01-12   -4.388693        3167.336373  3167.336373   \n",
       "18  2024-01-11  -49.643813        3171.725066  3171.725066   \n",
       "\n",
       "    cumulative_growth_pct  drawdown  \n",
       "7               -1.917104  1.917104  \n",
       "6               -1.875164  1.875164  \n",
       "5               -1.770833  1.770833  \n",
       "19               5.577879  1.677315  \n",
       "18               5.724169  1.541078  "
      ]
     },
     "execution_count": 215,
     "metadata": {},
     "output_type": "execute_result"
    }
   ],
   "source": [
    "# Посмотрим на данные и отсортируем по убыванию % просадки\n",
    "daily_income[['date', 'sum_income', 'cumulative_income', 'capital', 'cumulative_growth_pct', 'drawdown']]\\\n",
    ".sort_values('drawdown', ascending=False).head()"
   ]
  },
  {
   "cell_type": "code",
   "execution_count": 212,
   "id": "13e8053b",
   "metadata": {},
   "outputs": [],
   "source": [
    "# Преобразуем его в отрицательные значения для интуитивного понимания просадки\n",
    "daily_income['negative_drawdown'] = daily_income['drawdown'] * -1"
   ]
  },
  {
   "cell_type": "code",
   "execution_count": 214,
   "id": "0b810b00",
   "metadata": {},
   "outputs": [
    {
     "data": {
      "image/png": "[encoded data removed]",
      "text/plain": [
       "<Figure size 1000x600 with 1 Axes>"
      ]
     },
     "metadata": {},
     "output_type": "display_data"
    }
   ],
   "source": [
    "# Построение линейного графика просадки\n",
    "plt.figure(figsize=(10, 6))\n",
    "plt.plot(daily_income['date'], daily_income['negative_drawdown'], marker='o', color='red')\n",
    "plt.title('Линейный график реализованной просадки (%)')\n",
    "plt.xlabel('Дата')\n",
    "plt.ylabel('Просадка (%)')\n",
    "plt.grid(True)\n",
    "plt.xticks(rotation=45)  \n",
    "plt.show()"
   ]
  },
  {
   "cell_type": "markdown",
   "id": "fbe6259e",
   "metadata": {},
   "source": [
    "## Вывод\n",
    "\n",
    "3) График реализованной просадки в %. На этом графике мы видим, что просадка происходит с 24 декабря по 31 декабря и с 10 января по 12.\n"
   ]
  },
  {
   "cell_type": "markdown",
   "id": "e9c2864b",
   "metadata": {},
   "source": [
    "### Задание 4\n",
    "Построение линейного графика объема торгов"
   ]
  },
  {
   "cell_type": "code",
   "execution_count": 89,
   "id": "69fc6828",
   "metadata": {},
   "outputs": [
    {
     "data": {
      "text/html": [
       "<div>\n",
       "<style scoped>\n",
       "    .dataframe tbody tr th:only-of-type {\n",
       "        vertical-align: middle;\n",
       "    }\n",
       "\n",
       "    .dataframe tbody tr th {\n",
       "        vertical-align: top;\n",
       "    }\n",
       "\n",
       "    .dataframe thead th {\n",
       "        text-align: right;\n",
       "    }\n",
       "</style>\n",
       "<table border=\"1\" class=\"dataframe\">\n",
       "  <thead>\n",
       "    <tr style=\"text-align: right;\">\n",
       "      <th></th>\n",
       "      <th>_id</th>\n",
       "      <th>accountId</th>\n",
       "      <th>id</th>\n",
       "      <th>side</th>\n",
       "      <th>symbol</th>\n",
       "      <th>buyer</th>\n",
       "      <th>commission</th>\n",
       "      <th>commissionAsset</th>\n",
       "      <th>maker</th>\n",
       "      <th>orderId</th>\n",
       "      <th>positionSide</th>\n",
       "      <th>price</th>\n",
       "      <th>qty</th>\n",
       "      <th>quoteQty</th>\n",
       "      <th>realizedPnl</th>\n",
       "      <th>time</th>\n",
       "    </tr>\n",
       "  </thead>\n",
       "  <tbody>\n",
       "    <tr>\n",
       "      <th>0</th>\n",
       "      <td>65895bb18205d2d83a7ffbeb</td>\n",
       "      <td>de91ba99878f3ec6ac95e6bb327ad02fc5695db2</td>\n",
       "      <td>29568715</td>\n",
       "      <td>BUY</td>\n",
       "      <td>BTCDOMUSDT</td>\n",
       "      <td>True</td>\n",
       "      <td>0.012601</td>\n",
       "      <td>USDT</td>\n",
       "      <td>False</td>\n",
       "      <td>1484071377</td>\n",
       "      <td>BOTH</td>\n",
       "      <td>2100-01-01 00:00:00</td>\n",
       "      <td>0.012</td>\n",
       "      <td>25.2012</td>\n",
       "      <td>0.0</td>\n",
       "      <td>2023-12-25T09:42:20.233Z</td>\n",
       "    </tr>\n",
       "    <tr>\n",
       "      <th>1</th>\n",
       "      <td>65895bb18205d2d83a7ffbec</td>\n",
       "      <td>de91ba99878f3ec6ac95e6bb327ad02fc5695db2</td>\n",
       "      <td>29568716</td>\n",
       "      <td>BUY</td>\n",
       "      <td>BTCDOMUSDT</td>\n",
       "      <td>True</td>\n",
       "      <td>0.011551</td>\n",
       "      <td>USDT</td>\n",
       "      <td>False</td>\n",
       "      <td>1484071377</td>\n",
       "      <td>BOTH</td>\n",
       "      <td>2100-01-01 00:00:00</td>\n",
       "      <td>0.011</td>\n",
       "      <td>23.1011</td>\n",
       "      <td>0.0</td>\n",
       "      <td>2023-12-25T09:42:20.233Z</td>\n",
       "    </tr>\n",
       "    <tr>\n",
       "      <th>2</th>\n",
       "      <td>65895bb18205d2d83a7ffbed</td>\n",
       "      <td>de91ba99878f3ec6ac95e6bb327ad02fc5695db2</td>\n",
       "      <td>29568717</td>\n",
       "      <td>BUY</td>\n",
       "      <td>BTCDOMUSDT</td>\n",
       "      <td>True</td>\n",
       "      <td>0.003150</td>\n",
       "      <td>USDT</td>\n",
       "      <td>False</td>\n",
       "      <td>1484071377</td>\n",
       "      <td>BOTH</td>\n",
       "      <td>2100-01-01 00:00:00</td>\n",
       "      <td>0.003</td>\n",
       "      <td>3003-06-01 00:00:00</td>\n",
       "      <td>0.0</td>\n",
       "      <td>2023-12-25T09:42:20.233Z</td>\n",
       "    </tr>\n",
       "    <tr>\n",
       "      <th>3</th>\n",
       "      <td>65895bb18205d2d83a7ffbee</td>\n",
       "      <td>de91ba99878f3ec6ac95e6bb327ad02fc5695db2</td>\n",
       "      <td>29568718</td>\n",
       "      <td>BUY</td>\n",
       "      <td>BTCDOMUSDT</td>\n",
       "      <td>True</td>\n",
       "      <td>0.490373</td>\n",
       "      <td>USDT</td>\n",
       "      <td>False</td>\n",
       "      <td>1484071377</td>\n",
       "      <td>BOTH</td>\n",
       "      <td>2100-01-01 00:00:00</td>\n",
       "      <td>0.467</td>\n",
       "      <td>980.7467</td>\n",
       "      <td>0.0</td>\n",
       "      <td>2023-12-25T09:42:20.233Z</td>\n",
       "    </tr>\n",
       "    <tr>\n",
       "      <th>4</th>\n",
       "      <td>65895bb18205d2d83a7ffbef</td>\n",
       "      <td>de91ba99878f3ec6ac95e6bb327ad02fc5695db2</td>\n",
       "      <td>29568719</td>\n",
       "      <td>BUY</td>\n",
       "      <td>BTCDOMUSDT</td>\n",
       "      <td>True</td>\n",
       "      <td>0.161715</td>\n",
       "      <td>USDT</td>\n",
       "      <td>False</td>\n",
       "      <td>1484071377</td>\n",
       "      <td>BOTH</td>\n",
       "      <td>2100-02-01 00:00:00</td>\n",
       "      <td>0.154</td>\n",
       "      <td>323.4308</td>\n",
       "      <td>0.0</td>\n",
       "      <td>2023-12-25T09:42:20.233Z</td>\n",
       "    </tr>\n",
       "  </tbody>\n",
       "</table>\n",
       "</div>"
      ],
      "text/plain": [
       "                        _id                                 accountId  \\\n",
       "0  65895bb18205d2d83a7ffbeb  de91ba99878f3ec6ac95e6bb327ad02fc5695db2   \n",
       "1  65895bb18205d2d83a7ffbec  de91ba99878f3ec6ac95e6bb327ad02fc5695db2   \n",
       "2  65895bb18205d2d83a7ffbed  de91ba99878f3ec6ac95e6bb327ad02fc5695db2   \n",
       "3  65895bb18205d2d83a7ffbee  de91ba99878f3ec6ac95e6bb327ad02fc5695db2   \n",
       "4  65895bb18205d2d83a7ffbef  de91ba99878f3ec6ac95e6bb327ad02fc5695db2   \n",
       "\n",
       "         id side      symbol  buyer  commission commissionAsset  maker  \\\n",
       "0  29568715  BUY  BTCDOMUSDT   True    0.012601            USDT  False   \n",
       "1  29568716  BUY  BTCDOMUSDT   True    0.011551            USDT  False   \n",
       "2  29568717  BUY  BTCDOMUSDT   True    0.003150            USDT  False   \n",
       "3  29568718  BUY  BTCDOMUSDT   True    0.490373            USDT  False   \n",
       "4  29568719  BUY  BTCDOMUSDT   True    0.161715            USDT  False   \n",
       "\n",
       "      orderId positionSide                price    qty             quoteQty  \\\n",
       "0  1484071377         BOTH  2100-01-01 00:00:00  0.012              25.2012   \n",
       "1  1484071377         BOTH  2100-01-01 00:00:00  0.011              23.1011   \n",
       "2  1484071377         BOTH  2100-01-01 00:00:00  0.003  3003-06-01 00:00:00   \n",
       "3  1484071377         BOTH  2100-01-01 00:00:00  0.467             980.7467   \n",
       "4  1484071377         BOTH  2100-02-01 00:00:00  0.154             323.4308   \n",
       "\n",
       "   realizedPnl                      time  \n",
       "0          0.0  2023-12-25T09:42:20.233Z  \n",
       "1          0.0  2023-12-25T09:42:20.233Z  \n",
       "2          0.0  2023-12-25T09:42:20.233Z  \n",
       "3          0.0  2023-12-25T09:42:20.233Z  \n",
       "4          0.0  2023-12-25T09:42:20.233Z  "
      ]
     },
     "execution_count": 89,
     "metadata": {},
     "output_type": "execute_result"
    }
   ],
   "source": [
    "df_trades.head()"
   ]
  },
  {
   "cell_type": "code",
   "execution_count": 91,
   "id": "4de86639",
   "metadata": {},
   "outputs": [],
   "source": [
    "# Преобразование столбца 'time' в формат datetime\n",
    "df_trades['time'] = pd.to_datetime(df_trades['time'])"
   ]
  },
  {
   "cell_type": "code",
   "execution_count": 92,
   "id": "997bbe14",
   "metadata": {},
   "outputs": [],
   "source": [
    "# Выделение даты\n",
    "df_trades['date'] = df_trades['time'].dt.date"
   ]
  },
  {
   "cell_type": "code",
   "execution_count": 93,
   "id": "e184785c",
   "metadata": {},
   "outputs": [],
   "source": [
    "daily_volume = df_trades.groupby('date')['qty'].sum().reset_index()"
   ]
  },
  {
   "cell_type": "code",
   "execution_count": 94,
   "id": "a909db7f",
   "metadata": {},
   "outputs": [
    {
     "data": {
      "text/html": [
       "<div>\n",
       "<style scoped>\n",
       "    .dataframe tbody tr th:only-of-type {\n",
       "        vertical-align: middle;\n",
       "    }\n",
       "\n",
       "    .dataframe tbody tr th {\n",
       "        vertical-align: top;\n",
       "    }\n",
       "\n",
       "    .dataframe thead th {\n",
       "        text-align: right;\n",
       "    }\n",
       "</style>\n",
       "<table border=\"1\" class=\"dataframe\">\n",
       "  <thead>\n",
       "    <tr style=\"text-align: right;\">\n",
       "      <th></th>\n",
       "      <th>date</th>\n",
       "      <th>qty</th>\n",
       "    </tr>\n",
       "  </thead>\n",
       "  <tbody>\n",
       "    <tr>\n",
       "      <th>0</th>\n",
       "      <td>2023-12-25</td>\n",
       "      <td>1.043</td>\n",
       "    </tr>\n",
       "    <tr>\n",
       "      <th>1</th>\n",
       "      <td>2023-12-26</td>\n",
       "      <td>0.714</td>\n",
       "    </tr>\n",
       "    <tr>\n",
       "      <th>2</th>\n",
       "      <td>2023-12-27</td>\n",
       "      <td>0.405</td>\n",
       "    </tr>\n",
       "    <tr>\n",
       "      <th>3</th>\n",
       "      <td>2023-12-28</td>\n",
       "      <td>0.957</td>\n",
       "    </tr>\n",
       "    <tr>\n",
       "      <th>4</th>\n",
       "      <td>2023-12-29</td>\n",
       "      <td>0.451</td>\n",
       "    </tr>\n",
       "  </tbody>\n",
       "</table>\n",
       "</div>"
      ],
      "text/plain": [
       "         date    qty\n",
       "0  2023-12-25  1.043\n",
       "1  2023-12-26  0.714\n",
       "2  2023-12-27  0.405\n",
       "3  2023-12-28  0.957\n",
       "4  2023-12-29  0.451"
      ]
     },
     "execution_count": 94,
     "metadata": {},
     "output_type": "execute_result"
    }
   ],
   "source": [
    "daily_volume.head()"
   ]
  },
  {
   "cell_type": "code",
   "execution_count": 96,
   "id": "e5838989",
   "metadata": {},
   "outputs": [
    {
     "data": {
      "image/png": "[encoded data removed]",
      "text/plain": [
       "<Figure size 1000x600 with 1 Axes>"
      ]
     },
     "metadata": {},
     "output_type": "display_data"
    }
   ],
   "source": [
    "# Построение линейного графика объема торгов\n",
    "plt.figure(figsize=(10, 6))\n",
    "plt.plot(daily_volume['date'], daily_volume['qty'])\n",
    "plt.title('Линейный график роста объема торгов')\n",
    "plt.xlabel('Дата')\n",
    "plt.ylabel('Объем торгов')\n",
    "plt.grid(True)\n",
    "plt.xticks(rotation=45)\n",
    "\n",
    "plt.show()"
   ]
  },
  {
   "cell_type": "code",
   "execution_count": 223,
   "id": "9fefc76c",
   "metadata": {},
   "outputs": [],
   "source": [
    "# Изменение типа данных даты\n",
    "daily_volume['date'] = pd.to_datetime(daily_volume['date'])\n",
    "# Фильтрация данных по дате для обеих осей\n",
    "filtered_data = daily_volume[daily_volume['date'] <= '2024-01-12']"
   ]
  },
  {
   "cell_type": "code",
   "execution_count": 230,
   "id": "f0f63337",
   "metadata": {},
   "outputs": [
    {
     "data": {
      "image/png": "[encoded data removed]",
      "text/plain": [
       "<Figure size 1000x600 with 1 Axes>"
      ]
     },
     "metadata": {},
     "output_type": "display_data"
    }
   ],
   "source": [
    "# Построение линейного графика объема торгов в даты трейдинга\n",
    "\n",
    "plt.figure(figsize=(10, 6))\n",
    "plt.plot(filtered_data['date'], filtered_data['qty'], marker='o')\n",
    "plt.title('Линейный график роста объема торгов с 25-12-2023 по 12-01-2024')\n",
    "plt.xlabel('Дата')\n",
    "plt.ylabel('Объем торгов')\n",
    "plt.grid(True)\n",
    "plt.xticks(rotation=45)\n",
    "\n",
    "plt.show()"
   ]
  },
  {
   "cell_type": "code",
   "execution_count": 104,
   "id": "49a9a45d",
   "metadata": {},
   "outputs": [
    {
     "data": {
      "text/html": [
       "<div>\n",
       "<style scoped>\n",
       "    .dataframe tbody tr th:only-of-type {\n",
       "        vertical-align: middle;\n",
       "    }\n",
       "\n",
       "    .dataframe tbody tr th {\n",
       "        vertical-align: top;\n",
       "    }\n",
       "\n",
       "    .dataframe thead th {\n",
       "        text-align: right;\n",
       "    }\n",
       "</style>\n",
       "<table border=\"1\" class=\"dataframe\">\n",
       "  <thead>\n",
       "    <tr style=\"text-align: right;\">\n",
       "      <th></th>\n",
       "      <th>date</th>\n",
       "      <th>qty</th>\n",
       "    </tr>\n",
       "  </thead>\n",
       "  <tbody>\n",
       "    <tr>\n",
       "      <th>99</th>\n",
       "      <td>2024-04-13</td>\n",
       "      <td>3.879</td>\n",
       "    </tr>\n",
       "    <tr>\n",
       "      <th>16</th>\n",
       "      <td>2024-01-10</td>\n",
       "      <td>2.133</td>\n",
       "    </tr>\n",
       "    <tr>\n",
       "      <th>17</th>\n",
       "      <td>2024-01-11</td>\n",
       "      <td>1.982</td>\n",
       "    </tr>\n",
       "    <tr>\n",
       "      <th>18</th>\n",
       "      <td>2024-01-12</td>\n",
       "      <td>1.912</td>\n",
       "    </tr>\n",
       "    <tr>\n",
       "      <th>15</th>\n",
       "      <td>2024-01-09</td>\n",
       "      <td>1.824</td>\n",
       "    </tr>\n",
       "  </tbody>\n",
       "</table>\n",
       "</div>"
      ],
      "text/plain": [
       "          date    qty\n",
       "99  2024-04-13  3.879\n",
       "16  2024-01-10  2.133\n",
       "17  2024-01-11  1.982\n",
       "18  2024-01-12  1.912\n",
       "15  2024-01-09  1.824"
      ]
     },
     "execution_count": 104,
     "metadata": {},
     "output_type": "execute_result"
    }
   ],
   "source": [
    "# Посмотрим в какие дни были самые большие объемы торгов\n",
    "daily_volume.sort_values('qty', ascending=False).head()"
   ]
  },
  {
   "cell_type": "markdown",
   "id": "422dc6d2",
   "metadata": {},
   "source": [
    "## Вывод\n",
    "\n",
    "4) График роста объема торгов. На этих графиках мы видим динамику объемов торгов по дням. График роста объема торгов показал значительные колебания объема, особенно в конце анализируемого периода.\n"
   ]
  },
  {
   "cell_type": "markdown",
   "id": "41b5c60d",
   "metadata": {},
   "source": [
    "### Задание 5\n",
    "Вывести показатель максимальной просадки"
   ]
  },
  {
   "cell_type": "code",
   "execution_count": null,
   "id": "d63f8992",
   "metadata": {},
   "outputs": [],
   "source": [
    "daily_income['drawdown_value'] = (daily_income['max_capital'] - daily_income['cumulative_income']) / daily_income['max_capital']"
   ]
  },
  {
   "cell_type": "code",
   "execution_count": 119,
   "id": "f0aae32a",
   "metadata": {
    "scrolled": true
   },
   "outputs": [
    {
     "name": "stdout",
     "output_type": "stream",
     "text": [
      "Дата максимальной просадки: 2023-12-31\n",
      "Максимальная просадка: 1.92\n"
     ]
    }
   ],
   "source": [
    "max_drawdown = daily_income[['date', 'drawdown']].loc[daily_income['drawdown'].idxmax()]\n",
    "\n",
    "print(f\"Дата максимальной просадки: {max_drawdown['date']}\")\n",
    "print(f\"Максимальная просадка: {max_drawdown['drawdown']:.3}\")"
   ]
  },
  {
   "cell_type": "markdown",
   "id": "566d6d01",
   "metadata": {},
   "source": [
    "### Задание 6\n",
    "Вывести показатель максимального времени находжения в просадке в днях ( если получится в точном значении до сек)"
   ]
  },
  {
   "cell_type": "code",
   "execution_count": 134,
   "id": "333d6f41",
   "metadata": {},
   "outputs": [
    {
     "data": {
      "text/html": [
       "<div>\n",
       "<style scoped>\n",
       "    .dataframe tbody tr th:only-of-type {\n",
       "        vertical-align: middle;\n",
       "    }\n",
       "\n",
       "    .dataframe tbody tr th {\n",
       "        vertical-align: top;\n",
       "    }\n",
       "\n",
       "    .dataframe thead th {\n",
       "        text-align: right;\n",
       "    }\n",
       "</style>\n",
       "<table border=\"1\" class=\"dataframe\">\n",
       "  <thead>\n",
       "    <tr style=\"text-align: right;\">\n",
       "      <th></th>\n",
       "      <th>date</th>\n",
       "      <th>sum_income</th>\n",
       "      <th>cumulative_income</th>\n",
       "      <th>capital</th>\n",
       "      <th>cumulative_growth_pct</th>\n",
       "      <th>max_capital</th>\n",
       "      <th>drawdown</th>\n",
       "      <th>in_drawdown</th>\n",
       "    </tr>\n",
       "  </thead>\n",
       "  <tbody>\n",
       "    <tr>\n",
       "      <th>0</th>\n",
       "      <td>2023-12-24</td>\n",
       "      <td>3000.000000</td>\n",
       "      <td>3000.000000</td>\n",
       "      <td>3100.000000</td>\n",
       "      <td>0.000000</td>\n",
       "      <td>3000.000000</td>\n",
       "      <td>0.000000</td>\n",
       "      <td>False</td>\n",
       "    </tr>\n",
       "    <tr>\n",
       "      <th>1</th>\n",
       "      <td>2023-12-25</td>\n",
       "      <td>-1.116253</td>\n",
       "      <td>2998.883747</td>\n",
       "      <td>3098.883747</td>\n",
       "      <td>-0.036008</td>\n",
       "      <td>3000.000000</td>\n",
       "      <td>0.037208</td>\n",
       "      <td>True</td>\n",
       "    </tr>\n",
       "    <tr>\n",
       "      <th>2</th>\n",
       "      <td>2023-12-26</td>\n",
       "      <td>-4.731519</td>\n",
       "      <td>2994.152228</td>\n",
       "      <td>3094.152228</td>\n",
       "      <td>-0.188638</td>\n",
       "      <td>3000.000000</td>\n",
       "      <td>0.194926</td>\n",
       "      <td>True</td>\n",
       "    </tr>\n",
       "    <tr>\n",
       "      <th>3</th>\n",
       "      <td>2023-12-27</td>\n",
       "      <td>-0.982503</td>\n",
       "      <td>2993.169725</td>\n",
       "      <td>3093.169725</td>\n",
       "      <td>-0.220331</td>\n",
       "      <td>3000.000000</td>\n",
       "      <td>0.227676</td>\n",
       "      <td>True</td>\n",
       "    </tr>\n",
       "    <tr>\n",
       "      <th>4</th>\n",
       "      <td>2023-12-28</td>\n",
       "      <td>-36.164797</td>\n",
       "      <td>2957.004927</td>\n",
       "      <td>3057.004927</td>\n",
       "      <td>-1.386938</td>\n",
       "      <td>3000.000000</td>\n",
       "      <td>1.433169</td>\n",
       "      <td>True</td>\n",
       "    </tr>\n",
       "    <tr>\n",
       "      <th>5</th>\n",
       "      <td>2023-12-29</td>\n",
       "      <td>-10.129910</td>\n",
       "      <td>2946.875018</td>\n",
       "      <td>3046.875018</td>\n",
       "      <td>-1.713709</td>\n",
       "      <td>3000.000000</td>\n",
       "      <td>1.770833</td>\n",
       "      <td>True</td>\n",
       "    </tr>\n",
       "    <tr>\n",
       "      <th>6</th>\n",
       "      <td>2023-12-30</td>\n",
       "      <td>-3.129952</td>\n",
       "      <td>2943.745066</td>\n",
       "      <td>3043.745066</td>\n",
       "      <td>-1.814675</td>\n",
       "      <td>3000.000000</td>\n",
       "      <td>1.875164</td>\n",
       "      <td>True</td>\n",
       "    </tr>\n",
       "    <tr>\n",
       "      <th>7</th>\n",
       "      <td>2023-12-31</td>\n",
       "      <td>-1.258194</td>\n",
       "      <td>2942.486871</td>\n",
       "      <td>3042.486871</td>\n",
       "      <td>-1.855262</td>\n",
       "      <td>3000.000000</td>\n",
       "      <td>1.917104</td>\n",
       "      <td>True</td>\n",
       "    </tr>\n",
       "    <tr>\n",
       "      <th>8</th>\n",
       "      <td>2024-01-01</td>\n",
       "      <td>13.460400</td>\n",
       "      <td>2955.947271</td>\n",
       "      <td>3055.947271</td>\n",
       "      <td>-1.421056</td>\n",
       "      <td>3000.000000</td>\n",
       "      <td>1.468424</td>\n",
       "      <td>True</td>\n",
       "    </tr>\n",
       "    <tr>\n",
       "      <th>9</th>\n",
       "      <td>2024-01-02</td>\n",
       "      <td>19.682584</td>\n",
       "      <td>2975.629855</td>\n",
       "      <td>3075.629855</td>\n",
       "      <td>-0.786134</td>\n",
       "      <td>3000.000000</td>\n",
       "      <td>0.812338</td>\n",
       "      <td>True</td>\n",
       "    </tr>\n",
       "    <tr>\n",
       "      <th>10</th>\n",
       "      <td>2024-01-03</td>\n",
       "      <td>61.994628</td>\n",
       "      <td>3037.624483</td>\n",
       "      <td>3137.624483</td>\n",
       "      <td>1.213693</td>\n",
       "      <td>3037.624483</td>\n",
       "      <td>0.000000</td>\n",
       "      <td>False</td>\n",
       "    </tr>\n",
       "    <tr>\n",
       "      <th>11</th>\n",
       "      <td>2024-01-04</td>\n",
       "      <td>26.241257</td>\n",
       "      <td>3063.865740</td>\n",
       "      <td>3163.865740</td>\n",
       "      <td>2.060185</td>\n",
       "      <td>3063.865740</td>\n",
       "      <td>0.000000</td>\n",
       "      <td>False</td>\n",
       "    </tr>\n",
       "    <tr>\n",
       "      <th>12</th>\n",
       "      <td>2024-01-05</td>\n",
       "      <td>25.115508</td>\n",
       "      <td>3088.981248</td>\n",
       "      <td>3188.981248</td>\n",
       "      <td>2.870363</td>\n",
       "      <td>3088.981248</td>\n",
       "      <td>0.000000</td>\n",
       "      <td>False</td>\n",
       "    </tr>\n",
       "    <tr>\n",
       "      <th>13</th>\n",
       "      <td>2024-01-06</td>\n",
       "      <td>24.076843</td>\n",
       "      <td>3113.058090</td>\n",
       "      <td>3213.058090</td>\n",
       "      <td>3.647035</td>\n",
       "      <td>3113.058090</td>\n",
       "      <td>0.000000</td>\n",
       "      <td>False</td>\n",
       "    </tr>\n",
       "    <tr>\n",
       "      <th>14</th>\n",
       "      <td>2024-01-07</td>\n",
       "      <td>17.550345</td>\n",
       "      <td>3130.608435</td>\n",
       "      <td>3230.608435</td>\n",
       "      <td>4.213175</td>\n",
       "      <td>3130.608435</td>\n",
       "      <td>0.000000</td>\n",
       "      <td>False</td>\n",
       "    </tr>\n",
       "    <tr>\n",
       "      <th>15</th>\n",
       "      <td>2024-01-08</td>\n",
       "      <td>58.317384</td>\n",
       "      <td>3188.925819</td>\n",
       "      <td>3288.925819</td>\n",
       "      <td>6.094381</td>\n",
       "      <td>3188.925819</td>\n",
       "      <td>0.000000</td>\n",
       "      <td>False</td>\n",
       "    </tr>\n",
       "    <tr>\n",
       "      <th>16</th>\n",
       "      <td>2024-01-09</td>\n",
       "      <td>29.821324</td>\n",
       "      <td>3218.747143</td>\n",
       "      <td>3318.747143</td>\n",
       "      <td>7.056359</td>\n",
       "      <td>3218.747143</td>\n",
       "      <td>0.000000</td>\n",
       "      <td>False</td>\n",
       "    </tr>\n",
       "    <tr>\n",
       "      <th>17</th>\n",
       "      <td>2024-01-10</td>\n",
       "      <td>2.621735</td>\n",
       "      <td>3221.368878</td>\n",
       "      <td>3321.368878</td>\n",
       "      <td>7.140932</td>\n",
       "      <td>3221.368878</td>\n",
       "      <td>0.000000</td>\n",
       "      <td>False</td>\n",
       "    </tr>\n",
       "    <tr>\n",
       "      <th>18</th>\n",
       "      <td>2024-01-11</td>\n",
       "      <td>-49.643813</td>\n",
       "      <td>3171.725066</td>\n",
       "      <td>3271.725066</td>\n",
       "      <td>5.539518</td>\n",
       "      <td>3221.368878</td>\n",
       "      <td>1.541078</td>\n",
       "      <td>True</td>\n",
       "    </tr>\n",
       "    <tr>\n",
       "      <th>19</th>\n",
       "      <td>2024-01-12</td>\n",
       "      <td>-4.388693</td>\n",
       "      <td>3167.336373</td>\n",
       "      <td>3267.336373</td>\n",
       "      <td>5.397948</td>\n",
       "      <td>3221.368878</td>\n",
       "      <td>1.677315</td>\n",
       "      <td>True</td>\n",
       "    </tr>\n",
       "  </tbody>\n",
       "</table>\n",
       "</div>"
      ],
      "text/plain": [
       "          date   sum_income  cumulative_income      capital  \\\n",
       "0   2023-12-24  3000.000000        3000.000000  3100.000000   \n",
       "1   2023-12-25    -1.116253        2998.883747  3098.883747   \n",
       "2   2023-12-26    -4.731519        2994.152228  3094.152228   \n",
       "3   2023-12-27    -0.982503        2993.169725  3093.169725   \n",
       "4   2023-12-28   -36.164797        2957.004927  3057.004927   \n",
       "5   2023-12-29   -10.129910        2946.875018  3046.875018   \n",
       "6   2023-12-30    -3.129952        2943.745066  3043.745066   \n",
       "7   2023-12-31    -1.258194        2942.486871  3042.486871   \n",
       "8   2024-01-01    13.460400        2955.947271  3055.947271   \n",
       "9   2024-01-02    19.682584        2975.629855  3075.629855   \n",
       "10  2024-01-03    61.994628        3037.624483  3137.624483   \n",
       "11  2024-01-04    26.241257        3063.865740  3163.865740   \n",
       "12  2024-01-05    25.115508        3088.981248  3188.981248   \n",
       "13  2024-01-06    24.076843        3113.058090  3213.058090   \n",
       "14  2024-01-07    17.550345        3130.608435  3230.608435   \n",
       "15  2024-01-08    58.317384        3188.925819  3288.925819   \n",
       "16  2024-01-09    29.821324        3218.747143  3318.747143   \n",
       "17  2024-01-10     2.621735        3221.368878  3321.368878   \n",
       "18  2024-01-11   -49.643813        3171.725066  3271.725066   \n",
       "19  2024-01-12    -4.388693        3167.336373  3267.336373   \n",
       "\n",
       "    cumulative_growth_pct  max_capital  drawdown  in_drawdown  \n",
       "0                0.000000  3000.000000  0.000000        False  \n",
       "1               -0.036008  3000.000000  0.037208         True  \n",
       "2               -0.188638  3000.000000  0.194926         True  \n",
       "3               -0.220331  3000.000000  0.227676         True  \n",
       "4               -1.386938  3000.000000  1.433169         True  \n",
       "5               -1.713709  3000.000000  1.770833         True  \n",
       "6               -1.814675  3000.000000  1.875164         True  \n",
       "7               -1.855262  3000.000000  1.917104         True  \n",
       "8               -1.421056  3000.000000  1.468424         True  \n",
       "9               -0.786134  3000.000000  0.812338         True  \n",
       "10               1.213693  3037.624483  0.000000        False  \n",
       "11               2.060185  3063.865740  0.000000        False  \n",
       "12               2.870363  3088.981248  0.000000        False  \n",
       "13               3.647035  3113.058090  0.000000        False  \n",
       "14               4.213175  3130.608435  0.000000        False  \n",
       "15               6.094381  3188.925819  0.000000        False  \n",
       "16               7.056359  3218.747143  0.000000        False  \n",
       "17               7.140932  3221.368878  0.000000        False  \n",
       "18               5.539518  3221.368878  1.541078         True  \n",
       "19               5.397948  3221.368878  1.677315         True  "
      ]
     },
     "execution_count": 134,
     "metadata": {},
     "output_type": "execute_result"
    }
   ],
   "source": [
    "daily_income.head(20)"
   ]
  },
  {
   "cell_type": "code",
   "execution_count": 123,
   "id": "d232ec25",
   "metadata": {},
   "outputs": [],
   "source": [
    "# Определяем, когда происходит просадка (когда капитал меньше максимума до этой даты)\n",
    "daily_income['in_drawdown'] = daily_income['cumulative_income'] < daily_income['max_capital']"
   ]
  },
  {
   "cell_type": "code",
   "execution_count": 135,
   "id": "b844e341",
   "metadata": {},
   "outputs": [],
   "source": [
    "# Инициализация переменных\n",
    "periods = [] # Создали список чтобы туда складывать даты макс. просадок\n",
    "current_start = None"
   ]
  },
  {
   "cell_type": "code",
   "execution_count": 136,
   "id": "b6f4b50c",
   "metadata": {},
   "outputs": [],
   "source": [
    "# Проходим по всем строкам DataFrame для определения начала и конца периодов просадки\n",
    "for index, row in daily_income.iterrows():\n",
    "    if row['in_drawdown']:\n",
    "        if current_start is None:\n",
    "            # Запоминаем дату начала просадки\n",
    "            current_start = row['date']\n",
    "    else:\n",
    "        if current_start is not None:\n",
    "            # Если просадка закончилась, запоминаем период\n",
    "            current_end = daily_income.loc[index - 1, 'date']\n",
    "            periods.append((current_start, current_end))\n",
    "            current_start = None\n",
    "\n",
    "# Если просадка продолжается до конца данных, также учитываем её\n",
    "if current_start is not None:\n",
    "    current_end = daily_income.iloc[-1]['date']\n",
    "    periods.append((current_start, current_end))"
   ]
  },
  {
   "cell_type": "code",
   "execution_count": 150,
   "id": "2f07ae4b",
   "metadata": {},
   "outputs": [
    {
     "name": "stdout",
     "output_type": "stream",
     "text": [
      "Полных суток нахождения в просадкке: 8\n"
     ]
    }
   ],
   "source": [
    "# Теперь можем вычислить длительность каждого периода просадки\n",
    "durations = [(end - start).days  for start, end in periods]\n",
    "\n",
    "# Находим максимальную продолжительность просадки\n",
    "max_drawdown_duration = max(durations, default=0) \n",
    "print(f\"Полных суток нахождения в просадкке: {max_drawdown_duration}\") "
   ]
  },
  {
   "cell_type": "code",
   "execution_count": 141,
   "id": "b18336f4",
   "metadata": {},
   "outputs": [
    {
     "data": {
      "text/plain": [
       "[(datetime.date(2023, 12, 25), datetime.date(2024, 1, 2)),\n",
       " (datetime.date(2024, 1, 11), datetime.date(2024, 1, 12))]"
      ]
     },
     "execution_count": 141,
     "metadata": {},
     "output_type": "execute_result"
    }
   ],
   "source": [
    "periods"
   ]
  },
  {
   "cell_type": "markdown",
   "id": "a4a035ea",
   "metadata": {},
   "source": [
    "### Задание 7\n",
    "Посчитать дневную волатильность получившегося счета и пополнения счета."
   ]
  },
  {
   "cell_type": "code",
   "execution_count": 153,
   "id": "cab5a989",
   "metadata": {},
   "outputs": [
    {
     "name": "stderr",
     "output_type": "stream",
     "text": [
      "D:\\ProgramFiles\\lib\\site-packages\\pandas\\core\\arraylike.py:397: RuntimeWarning: invalid value encountered in log\n",
      "  result = getattr(ufunc, method)(*inputs, **kwargs)\n"
     ]
    }
   ],
   "source": [
    "# Подсчет логарифмической доходности по состоянию счета\n",
    "\n",
    "daily_income['log_capital'] = np.log(daily_income['cumulative_income']/daily_income['cumulative_income'].shift(1))\n",
    "\n",
    "# Подсчет логарифмической доходности по приходу прибыли или убытка на счет \n",
    "\n",
    "daily_income['log_sum_income'] = np.log(daily_income['sum_income']/daily_income['sum_income'].shift(1))\n"
   ]
  },
  {
   "cell_type": "code",
   "execution_count": 299,
   "id": "f6da8536",
   "metadata": {},
   "outputs": [
    {
     "data": {
      "text/html": [
       "<div>\n",
       "<style scoped>\n",
       "    .dataframe tbody tr th:only-of-type {\n",
       "        vertical-align: middle;\n",
       "    }\n",
       "\n",
       "    .dataframe tbody tr th {\n",
       "        vertical-align: top;\n",
       "    }\n",
       "\n",
       "    .dataframe thead th {\n",
       "        text-align: right;\n",
       "    }\n",
       "</style>\n",
       "<table border=\"1\" class=\"dataframe\">\n",
       "  <thead>\n",
       "    <tr style=\"text-align: right;\">\n",
       "      <th></th>\n",
       "      <th>date</th>\n",
       "      <th>sum_income</th>\n",
       "      <th>cumulative_income</th>\n",
       "      <th>capital</th>\n",
       "      <th>cumulative_growth_pct</th>\n",
       "      <th>max_capital</th>\n",
       "      <th>drawdown</th>\n",
       "      <th>in_drawdown</th>\n",
       "      <th>log_capital</th>\n",
       "      <th>log_sum_income</th>\n",
       "      <th>negative_drawdown</th>\n",
       "    </tr>\n",
       "  </thead>\n",
       "  <tbody>\n",
       "    <tr>\n",
       "      <th>0</th>\n",
       "      <td>2023-12-24</td>\n",
       "      <td>3000.000000</td>\n",
       "      <td>3000.000000</td>\n",
       "      <td>3000.000000</td>\n",
       "      <td>0.000000</td>\n",
       "      <td>3000.000000</td>\n",
       "      <td>0.000000</td>\n",
       "      <td>False</td>\n",
       "      <td>NaN</td>\n",
       "      <td>NaN</td>\n",
       "      <td>-0.000000</td>\n",
       "    </tr>\n",
       "    <tr>\n",
       "      <th>1</th>\n",
       "      <td>2023-12-25</td>\n",
       "      <td>-1.116253</td>\n",
       "      <td>2998.883747</td>\n",
       "      <td>2998.883747</td>\n",
       "      <td>-0.037208</td>\n",
       "      <td>3000.000000</td>\n",
       "      <td>0.037208</td>\n",
       "      <td>True</td>\n",
       "      <td>-0.000372</td>\n",
       "      <td>NaN</td>\n",
       "      <td>-0.037208</td>\n",
       "    </tr>\n",
       "    <tr>\n",
       "      <th>2</th>\n",
       "      <td>2023-12-26</td>\n",
       "      <td>-4.731519</td>\n",
       "      <td>2994.152228</td>\n",
       "      <td>2994.152228</td>\n",
       "      <td>-0.194926</td>\n",
       "      <td>3000.000000</td>\n",
       "      <td>0.194926</td>\n",
       "      <td>True</td>\n",
       "      <td>-0.001579</td>\n",
       "      <td>1.444269</td>\n",
       "      <td>-0.194926</td>\n",
       "    </tr>\n",
       "    <tr>\n",
       "      <th>3</th>\n",
       "      <td>2023-12-27</td>\n",
       "      <td>-0.982503</td>\n",
       "      <td>2993.169725</td>\n",
       "      <td>2993.169725</td>\n",
       "      <td>-0.227676</td>\n",
       "      <td>3000.000000</td>\n",
       "      <td>0.227676</td>\n",
       "      <td>True</td>\n",
       "      <td>-0.000328</td>\n",
       "      <td>-1.571898</td>\n",
       "      <td>-0.227676</td>\n",
       "    </tr>\n",
       "    <tr>\n",
       "      <th>4</th>\n",
       "      <td>2023-12-28</td>\n",
       "      <td>-36.164797</td>\n",
       "      <td>2957.004927</td>\n",
       "      <td>2957.004927</td>\n",
       "      <td>-1.433169</td>\n",
       "      <td>3000.000000</td>\n",
       "      <td>1.433169</td>\n",
       "      <td>True</td>\n",
       "      <td>-0.012156</td>\n",
       "      <td>3.605738</td>\n",
       "      <td>-1.433169</td>\n",
       "    </tr>\n",
       "    <tr>\n",
       "      <th>5</th>\n",
       "      <td>2023-12-29</td>\n",
       "      <td>-10.129910</td>\n",
       "      <td>2946.875018</td>\n",
       "      <td>2946.875018</td>\n",
       "      <td>-1.770833</td>\n",
       "      <td>3000.000000</td>\n",
       "      <td>1.770833</td>\n",
       "      <td>True</td>\n",
       "      <td>-0.003432</td>\n",
       "      <td>-1.272594</td>\n",
       "      <td>-1.770833</td>\n",
       "    </tr>\n",
       "    <tr>\n",
       "      <th>6</th>\n",
       "      <td>2023-12-30</td>\n",
       "      <td>-3.129952</td>\n",
       "      <td>2943.745066</td>\n",
       "      <td>2943.745066</td>\n",
       "      <td>-1.875164</td>\n",
       "      <td>3000.000000</td>\n",
       "      <td>1.875164</td>\n",
       "      <td>True</td>\n",
       "      <td>-0.001063</td>\n",
       "      <td>-1.174475</td>\n",
       "      <td>-1.875164</td>\n",
       "    </tr>\n",
       "    <tr>\n",
       "      <th>7</th>\n",
       "      <td>2023-12-31</td>\n",
       "      <td>-1.258194</td>\n",
       "      <td>2942.486871</td>\n",
       "      <td>2942.486871</td>\n",
       "      <td>-1.917104</td>\n",
       "      <td>3000.000000</td>\n",
       "      <td>1.917104</td>\n",
       "      <td>True</td>\n",
       "      <td>-0.000428</td>\n",
       "      <td>-0.911340</td>\n",
       "      <td>-1.917104</td>\n",
       "    </tr>\n",
       "    <tr>\n",
       "      <th>8</th>\n",
       "      <td>2024-01-01</td>\n",
       "      <td>13.460400</td>\n",
       "      <td>2955.947271</td>\n",
       "      <td>2955.947271</td>\n",
       "      <td>-1.468424</td>\n",
       "      <td>3000.000000</td>\n",
       "      <td>1.468424</td>\n",
       "      <td>True</td>\n",
       "      <td>0.004564</td>\n",
       "      <td>NaN</td>\n",
       "      <td>-1.468424</td>\n",
       "    </tr>\n",
       "    <tr>\n",
       "      <th>9</th>\n",
       "      <td>2024-01-02</td>\n",
       "      <td>19.682584</td>\n",
       "      <td>2975.629855</td>\n",
       "      <td>2975.629855</td>\n",
       "      <td>-0.812338</td>\n",
       "      <td>3000.000000</td>\n",
       "      <td>0.812338</td>\n",
       "      <td>True</td>\n",
       "      <td>0.006637</td>\n",
       "      <td>0.379982</td>\n",
       "      <td>-0.812338</td>\n",
       "    </tr>\n",
       "    <tr>\n",
       "      <th>10</th>\n",
       "      <td>2024-01-03</td>\n",
       "      <td>61.994628</td>\n",
       "      <td>3037.624483</td>\n",
       "      <td>3037.624483</td>\n",
       "      <td>1.254149</td>\n",
       "      <td>3037.624483</td>\n",
       "      <td>0.000000</td>\n",
       "      <td>False</td>\n",
       "      <td>0.020620</td>\n",
       "      <td>1.147314</td>\n",
       "      <td>-0.000000</td>\n",
       "    </tr>\n",
       "    <tr>\n",
       "      <th>11</th>\n",
       "      <td>2024-01-04</td>\n",
       "      <td>26.241257</td>\n",
       "      <td>3063.865740</td>\n",
       "      <td>3063.865740</td>\n",
       "      <td>2.128858</td>\n",
       "      <td>3063.865740</td>\n",
       "      <td>0.000000</td>\n",
       "      <td>False</td>\n",
       "      <td>0.008602</td>\n",
       "      <td>-0.859715</td>\n",
       "      <td>-0.000000</td>\n",
       "    </tr>\n",
       "    <tr>\n",
       "      <th>12</th>\n",
       "      <td>2024-01-05</td>\n",
       "      <td>25.115508</td>\n",
       "      <td>3088.981248</td>\n",
       "      <td>3088.981248</td>\n",
       "      <td>2.966042</td>\n",
       "      <td>3088.981248</td>\n",
       "      <td>0.000000</td>\n",
       "      <td>False</td>\n",
       "      <td>0.008164</td>\n",
       "      <td>-0.043847</td>\n",
       "      <td>-0.000000</td>\n",
       "    </tr>\n",
       "    <tr>\n",
       "      <th>13</th>\n",
       "      <td>2024-01-06</td>\n",
       "      <td>24.076843</td>\n",
       "      <td>3113.058090</td>\n",
       "      <td>3113.058090</td>\n",
       "      <td>3.768603</td>\n",
       "      <td>3113.058090</td>\n",
       "      <td>0.000000</td>\n",
       "      <td>False</td>\n",
       "      <td>0.007764</td>\n",
       "      <td>-0.042235</td>\n",
       "      <td>-0.000000</td>\n",
       "    </tr>\n",
       "    <tr>\n",
       "      <th>14</th>\n",
       "      <td>2024-01-07</td>\n",
       "      <td>17.550345</td>\n",
       "      <td>3130.608435</td>\n",
       "      <td>3130.608435</td>\n",
       "      <td>4.353615</td>\n",
       "      <td>3130.608435</td>\n",
       "      <td>0.000000</td>\n",
       "      <td>False</td>\n",
       "      <td>0.005622</td>\n",
       "      <td>-0.316177</td>\n",
       "      <td>-0.000000</td>\n",
       "    </tr>\n",
       "    <tr>\n",
       "      <th>15</th>\n",
       "      <td>2024-01-08</td>\n",
       "      <td>58.317384</td>\n",
       "      <td>3188.925819</td>\n",
       "      <td>3188.925819</td>\n",
       "      <td>6.297527</td>\n",
       "      <td>3188.925819</td>\n",
       "      <td>0.000000</td>\n",
       "      <td>False</td>\n",
       "      <td>0.018457</td>\n",
       "      <td>1.200827</td>\n",
       "      <td>-0.000000</td>\n",
       "    </tr>\n",
       "    <tr>\n",
       "      <th>16</th>\n",
       "      <td>2024-01-09</td>\n",
       "      <td>29.821324</td>\n",
       "      <td>3218.747143</td>\n",
       "      <td>3218.747143</td>\n",
       "      <td>7.291571</td>\n",
       "      <td>3218.747143</td>\n",
       "      <td>0.000000</td>\n",
       "      <td>False</td>\n",
       "      <td>0.009308</td>\n",
       "      <td>-0.670677</td>\n",
       "      <td>-0.000000</td>\n",
       "    </tr>\n",
       "    <tr>\n",
       "      <th>17</th>\n",
       "      <td>2024-01-10</td>\n",
       "      <td>2.621735</td>\n",
       "      <td>3221.368878</td>\n",
       "      <td>3221.368878</td>\n",
       "      <td>7.378963</td>\n",
       "      <td>3221.368878</td>\n",
       "      <td>0.000000</td>\n",
       "      <td>False</td>\n",
       "      <td>0.000814</td>\n",
       "      <td>-2.431387</td>\n",
       "      <td>-0.000000</td>\n",
       "    </tr>\n",
       "    <tr>\n",
       "      <th>18</th>\n",
       "      <td>2024-01-11</td>\n",
       "      <td>-49.643813</td>\n",
       "      <td>3171.725066</td>\n",
       "      <td>3171.725066</td>\n",
       "      <td>5.724169</td>\n",
       "      <td>3221.368878</td>\n",
       "      <td>1.541078</td>\n",
       "      <td>True</td>\n",
       "      <td>-0.015531</td>\n",
       "      <td>NaN</td>\n",
       "      <td>-1.541078</td>\n",
       "    </tr>\n",
       "    <tr>\n",
       "      <th>19</th>\n",
       "      <td>2024-01-12</td>\n",
       "      <td>-4.388693</td>\n",
       "      <td>3167.336373</td>\n",
       "      <td>3167.336373</td>\n",
       "      <td>5.577879</td>\n",
       "      <td>3221.368878</td>\n",
       "      <td>1.677315</td>\n",
       "      <td>True</td>\n",
       "      <td>-0.001385</td>\n",
       "      <td>-2.425842</td>\n",
       "      <td>-1.677315</td>\n",
       "    </tr>\n",
       "  </tbody>\n",
       "</table>\n",
       "</div>"
      ],
      "text/plain": [
       "         date   sum_income  cumulative_income      capital  \\\n",
       "0  2023-12-24  3000.000000        3000.000000  3000.000000   \n",
       "1  2023-12-25    -1.116253        2998.883747  2998.883747   \n",
       "2  2023-12-26    -4.731519        2994.152228  2994.152228   \n",
       "3  2023-12-27    -0.982503        2993.169725  2993.169725   \n",
       "4  2023-12-28   -36.164797        2957.004927  2957.004927   \n",
       "5  2023-12-29   -10.129910        2946.875018  2946.875018   \n",
       "6  2023-12-30    -3.129952        2943.745066  2943.745066   \n",
       "7  2023-12-31    -1.258194        2942.486871  2942.486871   \n",
       "8  2024-01-01    13.460400        2955.947271  2955.947271   \n",
       "9  2024-01-02    19.682584        2975.629855  2975.629855   \n",
       "10 2024-01-03    61.994628        3037.624483  3037.624483   \n",
       "11 2024-01-04    26.241257        3063.865740  3063.865740   \n",
       "12 2024-01-05    25.115508        3088.981248  3088.981248   \n",
       "13 2024-01-06    24.076843        3113.058090  3113.058090   \n",
       "14 2024-01-07    17.550345        3130.608435  3130.608435   \n",
       "15 2024-01-08    58.317384        3188.925819  3188.925819   \n",
       "16 2024-01-09    29.821324        3218.747143  3218.747143   \n",
       "17 2024-01-10     2.621735        3221.368878  3221.368878   \n",
       "18 2024-01-11   -49.643813        3171.725066  3171.725066   \n",
       "19 2024-01-12    -4.388693        3167.336373  3167.336373   \n",
       "\n",
       "    cumulative_growth_pct  max_capital  drawdown  in_drawdown  log_capital  \\\n",
       "0                0.000000  3000.000000  0.000000        False          NaN   \n",
       "1               -0.037208  3000.000000  0.037208         True    -0.000372   \n",
       "2               -0.194926  3000.000000  0.194926         True    -0.001579   \n",
       "3               -0.227676  3000.000000  0.227676         True    -0.000328   \n",
       "4               -1.433169  3000.000000  1.433169         True    -0.012156   \n",
       "5               -1.770833  3000.000000  1.770833         True    -0.003432   \n",
       "6               -1.875164  3000.000000  1.875164         True    -0.001063   \n",
       "7               -1.917104  3000.000000  1.917104         True    -0.000428   \n",
       "8               -1.468424  3000.000000  1.468424         True     0.004564   \n",
       "9               -0.812338  3000.000000  0.812338         True     0.006637   \n",
       "10               1.254149  3037.624483  0.000000        False     0.020620   \n",
       "11               2.128858  3063.865740  0.000000        False     0.008602   \n",
       "12               2.966042  3088.981248  0.000000        False     0.008164   \n",
       "13               3.768603  3113.058090  0.000000        False     0.007764   \n",
       "14               4.353615  3130.608435  0.000000        False     0.005622   \n",
       "15               6.297527  3188.925819  0.000000        False     0.018457   \n",
       "16               7.291571  3218.747143  0.000000        False     0.009308   \n",
       "17               7.378963  3221.368878  0.000000        False     0.000814   \n",
       "18               5.724169  3221.368878  1.541078         True    -0.015531   \n",
       "19               5.577879  3221.368878  1.677315         True    -0.001385   \n",
       "\n",
       "    log_sum_income  negative_drawdown  \n",
       "0              NaN          -0.000000  \n",
       "1              NaN          -0.037208  \n",
       "2         1.444269          -0.194926  \n",
       "3        -1.571898          -0.227676  \n",
       "4         3.605738          -1.433169  \n",
       "5        -1.272594          -1.770833  \n",
       "6        -1.174475          -1.875164  \n",
       "7        -0.911340          -1.917104  \n",
       "8              NaN          -1.468424  \n",
       "9         0.379982          -0.812338  \n",
       "10        1.147314          -0.000000  \n",
       "11       -0.859715          -0.000000  \n",
       "12       -0.043847          -0.000000  \n",
       "13       -0.042235          -0.000000  \n",
       "14       -0.316177          -0.000000  \n",
       "15        1.200827          -0.000000  \n",
       "16       -0.670677          -0.000000  \n",
       "17       -2.431387          -0.000000  \n",
       "18             NaN          -1.541078  \n",
       "19       -2.425842          -1.677315  "
      ]
     },
     "execution_count": 299,
     "metadata": {},
     "output_type": "execute_result"
    }
   ],
   "source": [
    "daily_income.head(20)"
   ]
  },
  {
   "cell_type": "code",
   "execution_count": 159,
   "id": "1c9f706b",
   "metadata": {},
   "outputs": [
    {
     "name": "stdout",
     "output_type": "stream",
     "text": [
      "Значение дневной волатильности доходности по состоянию счета: 0.0088\n",
      "Значение дневной волатильности доходности по приходу прибыли или убытка на счет: 1.56\n"
     ]
    }
   ],
   "source": [
    "# Подсчет волатильности, подсчетом стандартного отклонения\n",
    "capital_volatility = daily_income['log_capital'].std()\n",
    "income_volatility = daily_income['log_sum_income'].std()\n",
    "print(f\"Значение дневной волатильности доходности по состоянию счета: {capital_volatility:.2}\")\n",
    "print(f\"Значение дневной волатильности доходности по приходу прибыли или убытка на счет: {income_volatility:.3}\")"
   ]
  },
  {
   "cell_type": "markdown",
   "id": "9b0ea4ba",
   "metadata": {},
   "source": [
    "### Задание 8\n",
    "Посчитать Фандинг ( полученный, уплаченый, всего)"
   ]
  },
  {
   "cell_type": "code",
   "execution_count": 160,
   "id": "9b43aa4e",
   "metadata": {},
   "outputs": [
    {
     "data": {
      "text/html": [
       "<div>\n",
       "<style scoped>\n",
       "    .dataframe tbody tr th:only-of-type {\n",
       "        vertical-align: middle;\n",
       "    }\n",
       "\n",
       "    .dataframe tbody tr th {\n",
       "        vertical-align: top;\n",
       "    }\n",
       "\n",
       "    .dataframe thead th {\n",
       "        text-align: right;\n",
       "    }\n",
       "</style>\n",
       "<table border=\"1\" class=\"dataframe\">\n",
       "  <thead>\n",
       "    <tr style=\"text-align: right;\">\n",
       "      <th></th>\n",
       "      <th>_id</th>\n",
       "      <th>accountId</th>\n",
       "      <th>asset</th>\n",
       "      <th>incomeType</th>\n",
       "      <th>symbol</th>\n",
       "      <th>tranId</th>\n",
       "      <th>income</th>\n",
       "      <th>info</th>\n",
       "      <th>time</th>\n",
       "      <th>tradeId</th>\n",
       "      <th>date</th>\n",
       "    </tr>\n",
       "  </thead>\n",
       "  <tbody>\n",
       "    <tr>\n",
       "      <th>0</th>\n",
       "      <td>658935e88205d2d83a676055</td>\n",
       "      <td>de91ba99878f3ec6ac95e6bb327ad02fc5695db2</td>\n",
       "      <td>USDT</td>\n",
       "      <td>TRANSFER</td>\n",
       "      <td>NaN</td>\n",
       "      <td>150011656834</td>\n",
       "      <td>3000.000000</td>\n",
       "      <td>TRANSFER</td>\n",
       "      <td>2023-12-24 06:44:01+00:00</td>\n",
       "      <td>NaN</td>\n",
       "      <td>2023-12-24</td>\n",
       "    </tr>\n",
       "    <tr>\n",
       "      <th>1</th>\n",
       "      <td>658935e88205d2d83a67605e</td>\n",
       "      <td>de91ba99878f3ec6ac95e6bb327ad02fc5695db2</td>\n",
       "      <td>USDT</td>\n",
       "      <td>TRANSFER</td>\n",
       "      <td>NaN</td>\n",
       "      <td>150121782799</td>\n",
       "      <td>-1000.000000</td>\n",
       "      <td>TRANSFER</td>\n",
       "      <td>2023-12-25 05:17:15+00:00</td>\n",
       "      <td>NaN</td>\n",
       "      <td>2023-12-25</td>\n",
       "    </tr>\n",
       "    <tr>\n",
       "      <th>2</th>\n",
       "      <td>65894b478205d2d83a747597</td>\n",
       "      <td>de91ba99878f3ec6ac95e6bb327ad02fc5695db2</td>\n",
       "      <td>USDT</td>\n",
       "      <td>TRANSFER</td>\n",
       "      <td>NaN</td>\n",
       "      <td>150128726022</td>\n",
       "      <td>1000.000000</td>\n",
       "      <td>TRANSFER</td>\n",
       "      <td>2023-12-25 07:01:19+00:00</td>\n",
       "      <td>NaN</td>\n",
       "      <td>2023-12-25</td>\n",
       "    </tr>\n",
       "    <tr>\n",
       "      <th>3</th>\n",
       "      <td>658967858205d2d83a8e6f85</td>\n",
       "      <td>de91ba99878f3ec6ac95e6bb327ad02fc5695db2</td>\n",
       "      <td>USDT</td>\n",
       "      <td>COMMISSION</td>\n",
       "      <td>BTCDOMUSDT</td>\n",
       "      <td>9248129568717</td>\n",
       "      <td>-0.003150</td>\n",
       "      <td>29568717</td>\n",
       "      <td>2023-12-25 09:42:20+00:00</td>\n",
       "      <td>29568717.0</td>\n",
       "      <td>2023-12-25</td>\n",
       "    </tr>\n",
       "    <tr>\n",
       "      <th>4</th>\n",
       "      <td>658967858205d2d83a8e6f83</td>\n",
       "      <td>de91ba99878f3ec6ac95e6bb327ad02fc5695db2</td>\n",
       "      <td>USDT</td>\n",
       "      <td>COMMISSION</td>\n",
       "      <td>BTCDOMUSDT</td>\n",
       "      <td>9248129568715</td>\n",
       "      <td>-0.012601</td>\n",
       "      <td>29568715</td>\n",
       "      <td>2023-12-25 09:42:20+00:00</td>\n",
       "      <td>29568715.0</td>\n",
       "      <td>2023-12-25</td>\n",
       "    </tr>\n",
       "  </tbody>\n",
       "</table>\n",
       "</div>"
      ],
      "text/plain": [
       "                        _id                                 accountId asset  \\\n",
       "0  658935e88205d2d83a676055  de91ba99878f3ec6ac95e6bb327ad02fc5695db2  USDT   \n",
       "1  658935e88205d2d83a67605e  de91ba99878f3ec6ac95e6bb327ad02fc5695db2  USDT   \n",
       "2  65894b478205d2d83a747597  de91ba99878f3ec6ac95e6bb327ad02fc5695db2  USDT   \n",
       "3  658967858205d2d83a8e6f85  de91ba99878f3ec6ac95e6bb327ad02fc5695db2  USDT   \n",
       "4  658967858205d2d83a8e6f83  de91ba99878f3ec6ac95e6bb327ad02fc5695db2  USDT   \n",
       "\n",
       "   incomeType      symbol         tranId       income      info  \\\n",
       "0    TRANSFER         NaN   150011656834  3000.000000  TRANSFER   \n",
       "1    TRANSFER         NaN   150121782799 -1000.000000  TRANSFER   \n",
       "2    TRANSFER         NaN   150128726022  1000.000000  TRANSFER   \n",
       "3  COMMISSION  BTCDOMUSDT  9248129568717    -0.003150  29568717   \n",
       "4  COMMISSION  BTCDOMUSDT  9248129568715    -0.012601  29568715   \n",
       "\n",
       "                       time     tradeId        date  \n",
       "0 2023-12-24 06:44:01+00:00         NaN  2023-12-24  \n",
       "1 2023-12-25 05:17:15+00:00         NaN  2023-12-25  \n",
       "2 2023-12-25 07:01:19+00:00         NaN  2023-12-25  \n",
       "3 2023-12-25 09:42:20+00:00  29568717.0  2023-12-25  \n",
       "4 2023-12-25 09:42:20+00:00  29568715.0  2023-12-25  "
      ]
     },
     "execution_count": 160,
     "metadata": {},
     "output_type": "execute_result"
    }
   ],
   "source": [
    "df_incomes.head()"
   ]
  },
  {
   "cell_type": "code",
   "execution_count": 161,
   "id": "21d9249d",
   "metadata": {},
   "outputs": [
    {
     "data": {
      "text/plain": [
       "array(['TRANSFER', 'COMMISSION', 'REALIZED_PNL', 'FUNDING_FEE'],\n",
       "      dtype=object)"
      ]
     },
     "execution_count": 161,
     "metadata": {},
     "output_type": "execute_result"
    }
   ],
   "source": [
    "# Найдем тип пополнения\n",
    "df_incomes.incomeType.unique()"
   ]
  },
  {
   "cell_type": "code",
   "execution_count": 165,
   "id": "e7043d51",
   "metadata": {},
   "outputs": [],
   "source": [
    "# Отфильтруем датафрейм по FUNDING_FEE и оставим нужные колонки\n",
    "funding_df = df_incomes[['income', 'incomeType', 'asset', 'time', 'date']].loc[df_incomes.incomeType == 'FUNDING_FEE']"
   ]
  },
  {
   "cell_type": "code",
   "execution_count": 167,
   "id": "42216020",
   "metadata": {},
   "outputs": [
    {
     "data": {
      "text/html": [
       "<div>\n",
       "<style scoped>\n",
       "    .dataframe tbody tr th:only-of-type {\n",
       "        vertical-align: middle;\n",
       "    }\n",
       "\n",
       "    .dataframe tbody tr th {\n",
       "        vertical-align: top;\n",
       "    }\n",
       "\n",
       "    .dataframe thead th {\n",
       "        text-align: right;\n",
       "    }\n",
       "</style>\n",
       "<table border=\"1\" class=\"dataframe\">\n",
       "  <thead>\n",
       "    <tr style=\"text-align: right;\">\n",
       "      <th></th>\n",
       "      <th>income</th>\n",
       "      <th>incomeType</th>\n",
       "      <th>asset</th>\n",
       "      <th>time</th>\n",
       "      <th>date</th>\n",
       "    </tr>\n",
       "  </thead>\n",
       "  <tbody>\n",
       "    <tr>\n",
       "      <th>16</th>\n",
       "      <td>-0.049650</td>\n",
       "      <td>FUNDING_FEE</td>\n",
       "      <td>USDT</td>\n",
       "      <td>2023-12-25 16:00:00+00:00</td>\n",
       "      <td>2023-12-25</td>\n",
       "    </tr>\n",
       "    <tr>\n",
       "      <th>20</th>\n",
       "      <td>-1.468658</td>\n",
       "      <td>FUNDING_FEE</td>\n",
       "      <td>USDT</td>\n",
       "      <td>2023-12-25 16:00:02+00:00</td>\n",
       "      <td>2023-12-25</td>\n",
       "    </tr>\n",
       "    <tr>\n",
       "      <th>24</th>\n",
       "      <td>-0.056766</td>\n",
       "      <td>FUNDING_FEE</td>\n",
       "      <td>USDT</td>\n",
       "      <td>2023-12-26 00:00:00+00:00</td>\n",
       "      <td>2023-12-26</td>\n",
       "    </tr>\n",
       "    <tr>\n",
       "      <th>25</th>\n",
       "      <td>-0.997289</td>\n",
       "      <td>FUNDING_FEE</td>\n",
       "      <td>USDT</td>\n",
       "      <td>2023-12-26 00:00:02+00:00</td>\n",
       "      <td>2023-12-26</td>\n",
       "    </tr>\n",
       "    <tr>\n",
       "      <th>38</th>\n",
       "      <td>-0.091509</td>\n",
       "      <td>FUNDING_FEE</td>\n",
       "      <td>USDT</td>\n",
       "      <td>2023-12-26 08:00:00+00:00</td>\n",
       "      <td>2023-12-26</td>\n",
       "    </tr>\n",
       "  </tbody>\n",
       "</table>\n",
       "</div>"
      ],
      "text/plain": [
       "      income   incomeType asset                      time        date\n",
       "16 -0.049650  FUNDING_FEE  USDT 2023-12-25 16:00:00+00:00  2023-12-25\n",
       "20 -1.468658  FUNDING_FEE  USDT 2023-12-25 16:00:02+00:00  2023-12-25\n",
       "24 -0.056766  FUNDING_FEE  USDT 2023-12-26 00:00:00+00:00  2023-12-26\n",
       "25 -0.997289  FUNDING_FEE  USDT 2023-12-26 00:00:02+00:00  2023-12-26\n",
       "38 -0.091509  FUNDING_FEE  USDT 2023-12-26 08:00:00+00:00  2023-12-26"
      ]
     },
     "execution_count": 167,
     "metadata": {},
     "output_type": "execute_result"
    }
   ],
   "source": [
    "funding_df.head()"
   ]
  },
  {
   "cell_type": "code",
   "execution_count": 170,
   "id": "6a60936a",
   "metadata": {},
   "outputs": [],
   "source": [
    "# Создадим колонки funding_received и funding_paid\n",
    "funding_df['funding_received'] = funding_df['income'].apply(lambda x: x if x > 0 else 0)\n",
    "funding_df['funding_paid'] = funding_df['income'].apply(lambda x: x if x < 0 else 0)"
   ]
  },
  {
   "cell_type": "code",
   "execution_count": 175,
   "id": "eda65149",
   "metadata": {},
   "outputs": [
    {
     "data": {
      "text/html": [
       "<div>\n",
       "<style scoped>\n",
       "    .dataframe tbody tr th:only-of-type {\n",
       "        vertical-align: middle;\n",
       "    }\n",
       "\n",
       "    .dataframe tbody tr th {\n",
       "        vertical-align: top;\n",
       "    }\n",
       "\n",
       "    .dataframe thead th {\n",
       "        text-align: right;\n",
       "    }\n",
       "</style>\n",
       "<table border=\"1\" class=\"dataframe\">\n",
       "  <thead>\n",
       "    <tr style=\"text-align: right;\">\n",
       "      <th></th>\n",
       "      <th>income</th>\n",
       "      <th>incomeType</th>\n",
       "      <th>asset</th>\n",
       "      <th>time</th>\n",
       "      <th>date</th>\n",
       "      <th>funding_received</th>\n",
       "      <th>funding_paid</th>\n",
       "    </tr>\n",
       "  </thead>\n",
       "  <tbody>\n",
       "    <tr>\n",
       "      <th>16</th>\n",
       "      <td>-0.049650</td>\n",
       "      <td>FUNDING_FEE</td>\n",
       "      <td>USDT</td>\n",
       "      <td>2023-12-25 16:00:00+00:00</td>\n",
       "      <td>2023-12-25</td>\n",
       "      <td>0.0</td>\n",
       "      <td>-0.049650</td>\n",
       "    </tr>\n",
       "    <tr>\n",
       "      <th>20</th>\n",
       "      <td>-1.468658</td>\n",
       "      <td>FUNDING_FEE</td>\n",
       "      <td>USDT</td>\n",
       "      <td>2023-12-25 16:00:02+00:00</td>\n",
       "      <td>2023-12-25</td>\n",
       "      <td>0.0</td>\n",
       "      <td>-1.468658</td>\n",
       "    </tr>\n",
       "    <tr>\n",
       "      <th>24</th>\n",
       "      <td>-0.056766</td>\n",
       "      <td>FUNDING_FEE</td>\n",
       "      <td>USDT</td>\n",
       "      <td>2023-12-26 00:00:00+00:00</td>\n",
       "      <td>2023-12-26</td>\n",
       "      <td>0.0</td>\n",
       "      <td>-0.056766</td>\n",
       "    </tr>\n",
       "    <tr>\n",
       "      <th>25</th>\n",
       "      <td>-0.997289</td>\n",
       "      <td>FUNDING_FEE</td>\n",
       "      <td>USDT</td>\n",
       "      <td>2023-12-26 00:00:02+00:00</td>\n",
       "      <td>2023-12-26</td>\n",
       "      <td>0.0</td>\n",
       "      <td>-0.997289</td>\n",
       "    </tr>\n",
       "    <tr>\n",
       "      <th>38</th>\n",
       "      <td>-0.091509</td>\n",
       "      <td>FUNDING_FEE</td>\n",
       "      <td>USDT</td>\n",
       "      <td>2023-12-26 08:00:00+00:00</td>\n",
       "      <td>2023-12-26</td>\n",
       "      <td>0.0</td>\n",
       "      <td>-0.091509</td>\n",
       "    </tr>\n",
       "  </tbody>\n",
       "</table>\n",
       "</div>"
      ],
      "text/plain": [
       "      income   incomeType asset                      time        date  \\\n",
       "16 -0.049650  FUNDING_FEE  USDT 2023-12-25 16:00:00+00:00  2023-12-25   \n",
       "20 -1.468658  FUNDING_FEE  USDT 2023-12-25 16:00:02+00:00  2023-12-25   \n",
       "24 -0.056766  FUNDING_FEE  USDT 2023-12-26 00:00:00+00:00  2023-12-26   \n",
       "25 -0.997289  FUNDING_FEE  USDT 2023-12-26 00:00:02+00:00  2023-12-26   \n",
       "38 -0.091509  FUNDING_FEE  USDT 2023-12-26 08:00:00+00:00  2023-12-26   \n",
       "\n",
       "    funding_received  funding_paid  \n",
       "16               0.0     -0.049650  \n",
       "20               0.0     -1.468658  \n",
       "24               0.0     -0.056766  \n",
       "25               0.0     -0.997289  \n",
       "38               0.0     -0.091509  "
      ]
     },
     "execution_count": 175,
     "metadata": {},
     "output_type": "execute_result"
    }
   ],
   "source": [
    "funding_df.head()"
   ]
  },
  {
   "cell_type": "code",
   "execution_count": 176,
   "id": "f4dacca7",
   "metadata": {},
   "outputs": [],
   "source": [
    "# Посчитаем фандинги\n",
    "funding_received = funding_df['funding_received'].sum()\n",
    "funding_paid = funding_df['funding_paid'].sum()\n",
    "net_funding =  funding_received + funding_paid\n"
   ]
  },
  {
   "cell_type": "code",
   "execution_count": 179,
   "id": "20ee7fa5",
   "metadata": {},
   "outputs": [
    {
     "name": "stdout",
     "output_type": "stream",
     "text": [
      "Полученный фандинг: 2.84\n",
      "Уплаченный фандинг: -26.75\n",
      "Общий фандинг: -23.91\n"
     ]
    }
   ],
   "source": [
    "print(f\"Полученный фандинг: {funding_received:.3}\")\n",
    "print(f\"Уплаченный фандинг: {funding_paid:.4}\")\n",
    "print(f\"Общий фандинг: {net_funding:.4}\")"
   ]
  },
  {
   "cell_type": "markdown",
   "id": "0e6e5e91",
   "metadata": {},
   "source": [
    "### Задание 9\n",
    "Посчитать NET  Profit инвестора при коммисии за успех 35% взымаемой каждое 1 число месяца."
   ]
  },
  {
   "cell_type": "code",
   "execution_count": 182,
   "id": "45c32bdf",
   "metadata": {},
   "outputs": [
    {
     "data": {
      "text/plain": [
       "COMMISSION      598\n",
       "REALIZED_PNL    293\n",
       "FUNDING_FEE     105\n",
       "TRANSFER          3\n",
       "Name: incomeType, dtype: int64"
      ]
     },
     "execution_count": 182,
     "metadata": {},
     "output_type": "execute_result"
    }
   ],
   "source": [
    "# Найдем тип пополнения и их количество\n",
    "df_incomes.incomeType.value_counts()"
   ]
  },
  {
   "cell_type": "code",
   "execution_count": 183,
   "id": "0c8a0dd7",
   "metadata": {},
   "outputs": [],
   "source": [
    "# При подсчете чистой прибыли не будем учитывать трансфер\n",
    "df_net_profit = df_incomes.loc[df_incomes['incomeType'] != 'TRANSFER']"
   ]
  },
  {
   "cell_type": "code",
   "execution_count": 193,
   "id": "19e60ff5",
   "metadata": {},
   "outputs": [
    {
     "name": "stderr",
     "output_type": "stream",
     "text": [
      "C:\\Users\\domodedovo\\AppData\\Local\\Temp\\ipykernel_18700\\691096843.py:1: SettingWithCopyWarning: \n",
      "A value is trying to be set on a copy of a slice from a DataFrame.\n",
      "Try using .loc[row_indexer,col_indexer] = value instead\n",
      "\n",
      "See the caveats in the documentation: https://pandas.pydata.org/pandas-docs/stable/user_guide/indexing.html#returning-a-view-versus-a-copy\n",
      "  df_net_profit['date'] = pd.to_datetime(df_net_profit['date'])\n"
     ]
    }
   ],
   "source": [
    "df_net_profit['date'] = pd.to_datetime(df_net_profit['date'])"
   ]
  },
  {
   "cell_type": "code",
   "execution_count": 194,
   "id": "86dcbc7a",
   "metadata": {},
   "outputs": [],
   "source": [
    "# Фильтрация данных по периодам\n",
    "period1 = df_net_profit.loc[(df_net_profit['date'] >= '2023-12-24') & (df_net_profit['date'] <= '2023-12-31')]\n",
    "period2 = df_net_profit.loc[(df_net_profit['date'] >= '2024-01-01') & (df_net_profit['date'] <= '2024-01-12')]"
   ]
  },
  {
   "cell_type": "code",
   "execution_count": 197,
   "id": "97a57a6d",
   "metadata": {},
   "outputs": [
    {
     "name": "stdout",
     "output_type": "stream",
     "text": [
      "Валовая прибыль за период 1 (24 декабря - 31 декабря): -57.51\n",
      "Валовая прибыль за период 2 (1 января - 12 января): 224.8\n"
     ]
    }
   ],
   "source": [
    "# Расчет валовой прибыли за каждый период\n",
    "gross_profit_period1 = period1['income'].sum()\n",
    "gross_profit_period2 = period2['income'].sum()\n",
    "print(f\"Валовая прибыль за период 1 (24 декабря - 31 декабря): {gross_profit_period1:.4}\")\n",
    "print(f\"Валовая прибыль за период 2 (1 января - 12 января): {gross_profit_period2:.4}\")"
   ]
  },
  {
   "cell_type": "code",
   "execution_count": 226,
   "id": "591c4aba",
   "metadata": {},
   "outputs": [
    {
     "name": "stdout",
     "output_type": "stream",
     "text": [
      "Чистая прибыль за период 1 (24 декабря - 31 декабря) : -57.51\n",
      "Чистая прибыль за период 2 (1 января - 12 января): 224.8\n",
      "Общая чистая прибыль: 167.34\n"
     ]
    }
   ],
   "source": [
    "# Так как за декабрь валовая прибыль неуспешна, тогда 35% за первый период не взимается 1 января \n",
    "\n",
    "\n",
    "# Расчет чистой прибыли за оба периода\n",
    "net_profit_period1 = gross_profit_period1\n",
    "net_profit_period2 = gross_profit_period2  # Во втором периоде также комиссия не взимается \n",
    "\n",
    "# Общая чистая прибыль\n",
    "total_net_profit = net_profit_period1 + net_profit_period2\n",
    "\n",
    "# Вывод результатов\n",
    "\n",
    "print(f\"Чистая прибыль за период 1 (24 декабря - 31 декабря) : {net_profit_period1:.4}\")\n",
    "print(f\"Чистая прибыль за период 2 (1 января - 12 января): {net_profit_period2:.4}\")\n",
    "print(f\"Общая чистая прибыль: {total_net_profit:.5}\")"
   ]
  },
  {
   "cell_type": "markdown",
   "id": "fbc89927",
   "metadata": {},
   "source": [
    "### Дополнительные коэффиценты и графики\n",
    "### Задание 10\n",
    "Коэффициент Шарпа"
   ]
  },
  {
   "cell_type": "markdown",
   "id": "9418f596",
   "metadata": {},
   "source": [
    "## Вывод\n",
    "Наши данные находятся в диапозоне с 24 декабря 2023 года по 12 января 2024 года.\n",
    "Мы посчитали и визуализировали следующее:\n",
    "1) График реализованного баланса. На этом графике мы увидели "
   ]
  },
  {
   "cell_type": "code",
   "execution_count": 231,
   "id": "82eff528",
   "metadata": {},
   "outputs": [
    {
     "data": {
      "text/html": [
       "<div>\n",
       "<style scoped>\n",
       "    .dataframe tbody tr th:only-of-type {\n",
       "        vertical-align: middle;\n",
       "    }\n",
       "\n",
       "    .dataframe tbody tr th {\n",
       "        vertical-align: top;\n",
       "    }\n",
       "\n",
       "    .dataframe thead th {\n",
       "        text-align: right;\n",
       "    }\n",
       "</style>\n",
       "<table border=\"1\" class=\"dataframe\">\n",
       "  <thead>\n",
       "    <tr style=\"text-align: right;\">\n",
       "      <th></th>\n",
       "      <th>date</th>\n",
       "      <th>sum_income</th>\n",
       "      <th>cumulative_income</th>\n",
       "      <th>capital</th>\n",
       "      <th>cumulative_growth_pct</th>\n",
       "      <th>max_capital</th>\n",
       "      <th>drawdown</th>\n",
       "      <th>in_drawdown</th>\n",
       "      <th>log_capital</th>\n",
       "      <th>log_sum_income</th>\n",
       "      <th>negative_drawdown</th>\n",
       "    </tr>\n",
       "  </thead>\n",
       "  <tbody>\n",
       "    <tr>\n",
       "      <th>0</th>\n",
       "      <td>2023-12-24</td>\n",
       "      <td>3000.000000</td>\n",
       "      <td>3000.000000</td>\n",
       "      <td>3000.000000</td>\n",
       "      <td>0.000000</td>\n",
       "      <td>3000.0</td>\n",
       "      <td>0.000000</td>\n",
       "      <td>False</td>\n",
       "      <td>NaN</td>\n",
       "      <td>NaN</td>\n",
       "      <td>-0.000000</td>\n",
       "    </tr>\n",
       "    <tr>\n",
       "      <th>1</th>\n",
       "      <td>2023-12-25</td>\n",
       "      <td>-1.116253</td>\n",
       "      <td>2998.883747</td>\n",
       "      <td>2998.883747</td>\n",
       "      <td>-0.037208</td>\n",
       "      <td>3000.0</td>\n",
       "      <td>0.037208</td>\n",
       "      <td>True</td>\n",
       "      <td>-0.000372</td>\n",
       "      <td>NaN</td>\n",
       "      <td>-0.037208</td>\n",
       "    </tr>\n",
       "    <tr>\n",
       "      <th>2</th>\n",
       "      <td>2023-12-26</td>\n",
       "      <td>-4.731519</td>\n",
       "      <td>2994.152228</td>\n",
       "      <td>2994.152228</td>\n",
       "      <td>-0.194926</td>\n",
       "      <td>3000.0</td>\n",
       "      <td>0.194926</td>\n",
       "      <td>True</td>\n",
       "      <td>-0.001579</td>\n",
       "      <td>1.444269</td>\n",
       "      <td>-0.194926</td>\n",
       "    </tr>\n",
       "    <tr>\n",
       "      <th>3</th>\n",
       "      <td>2023-12-27</td>\n",
       "      <td>-0.982503</td>\n",
       "      <td>2993.169725</td>\n",
       "      <td>2993.169725</td>\n",
       "      <td>-0.227676</td>\n",
       "      <td>3000.0</td>\n",
       "      <td>0.227676</td>\n",
       "      <td>True</td>\n",
       "      <td>-0.000328</td>\n",
       "      <td>-1.571898</td>\n",
       "      <td>-0.227676</td>\n",
       "    </tr>\n",
       "    <tr>\n",
       "      <th>4</th>\n",
       "      <td>2023-12-28</td>\n",
       "      <td>-36.164797</td>\n",
       "      <td>2957.004927</td>\n",
       "      <td>2957.004927</td>\n",
       "      <td>-1.433169</td>\n",
       "      <td>3000.0</td>\n",
       "      <td>1.433169</td>\n",
       "      <td>True</td>\n",
       "      <td>-0.012156</td>\n",
       "      <td>3.605738</td>\n",
       "      <td>-1.433169</td>\n",
       "    </tr>\n",
       "  </tbody>\n",
       "</table>\n",
       "</div>"
      ],
      "text/plain": [
       "         date   sum_income  cumulative_income      capital  \\\n",
       "0  2023-12-24  3000.000000        3000.000000  3000.000000   \n",
       "1  2023-12-25    -1.116253        2998.883747  2998.883747   \n",
       "2  2023-12-26    -4.731519        2994.152228  2994.152228   \n",
       "3  2023-12-27    -0.982503        2993.169725  2993.169725   \n",
       "4  2023-12-28   -36.164797        2957.004927  2957.004927   \n",
       "\n",
       "   cumulative_growth_pct  max_capital  drawdown  in_drawdown  log_capital  \\\n",
       "0               0.000000       3000.0  0.000000        False          NaN   \n",
       "1              -0.037208       3000.0  0.037208         True    -0.000372   \n",
       "2              -0.194926       3000.0  0.194926         True    -0.001579   \n",
       "3              -0.227676       3000.0  0.227676         True    -0.000328   \n",
       "4              -1.433169       3000.0  1.433169         True    -0.012156   \n",
       "\n",
       "   log_sum_income  negative_drawdown  \n",
       "0             NaN          -0.000000  \n",
       "1             NaN          -0.037208  \n",
       "2        1.444269          -0.194926  \n",
       "3       -1.571898          -0.227676  \n",
       "4        3.605738          -1.433169  "
      ]
     },
     "execution_count": 231,
     "metadata": {},
     "output_type": "execute_result"
    }
   ],
   "source": [
    "daily_income.head()"
   ]
  },
  {
   "cell_type": "code",
   "execution_count": 237,
   "id": "69eb8e37",
   "metadata": {},
   "outputs": [
    {
     "name": "stdout",
     "output_type": "stream",
     "text": [
      " Коэффициент Шарпа (на дневной основе) : 0.32\n"
     ]
    }
   ],
   "source": [
    "# Среднедневная доходность\n",
    "mean_capital = daily_income['log_capital'].mean()\n",
    "\n",
    "# Стандартное отклонение дневной доходности уже посчитан ранее - capital_volatility\n",
    "\n",
    "# Безрисковая ставка (предположим 0%)\n",
    "risk_free_rate = 0\n",
    "\n",
    "# Коэффициент Шарпа (на дневной основе)\n",
    "sharpe_ratio = (mean_capital - risk_free_rate) / capital_volatility\n",
    "print(f\" Коэффициент Шарпа (на дневной основе) : {sharpe_ratio:.2}\")"
   ]
  },
  {
   "cell_type": "markdown",
   "id": "a8a9d6e4",
   "metadata": {},
   "source": [
    "### Задание 11\n",
    "Гистограмма доходности"
   ]
  },
  {
   "cell_type": "code",
   "execution_count": 238,
   "id": "4a9a8832",
   "metadata": {},
   "outputs": [
    {
     "data": {
      "image/png": "[encoded data removed]",
      "text/plain": [
       "<Figure size 1000x600 with 1 Axes>"
      ]
     },
     "metadata": {},
     "output_type": "display_data"
    }
   ],
   "source": [
    "# Удаляем возможные NaN значения, которые могут появиться после расчета логарифмов\n",
    "log_dropna = daily_income['log_capital'].dropna()\n",
    "\n",
    "# Построение гистограммы распределения доходности\n",
    "plt.figure(figsize=(10, 6))\n",
    "plt.hist(log_dropna, bins=30, edgecolor='black', alpha=0.7)\n",
    "plt.title('Гистограмма распределения логарифмической доходности')\n",
    "plt.xlabel('Логарифмическая доходность')\n",
    "plt.ylabel('Частота')\n",
    "plt.grid(True)\n",
    "plt.show()"
   ]
  },
  {
   "cell_type": "markdown",
   "id": "88b325b1",
   "metadata": {},
   "source": [
    "## Вывод:\n",
    "На гистограмме:\n",
    "- значение околонулевое \n",
    "- примерно симметричное\n",
    "- на взгляд все-таки кажется что положительных значений больше, что на самом деле так."
   ]
  },
  {
   "cell_type": "markdown",
   "id": "30c14092",
   "metadata": {},
   "source": [
    "### Задание 12\n",
    "Анализ корреляции между объемом торгов и доходностью"
   ]
  },
  {
   "cell_type": "code",
   "execution_count": null,
   "id": "90bf3cb4",
   "metadata": {},
   "outputs": [],
   "source": [
    "filtered_data"
   ]
  },
  {
   "cell_type": "code",
   "execution_count": 271,
   "id": "62102c8e",
   "metadata": {},
   "outputs": [
    {
     "data": {
      "text/plain": [
       "0.079"
      ]
     },
     "execution_count": 271,
     "metadata": {},
     "output_type": "execute_result"
    }
   ],
   "source": [
    "# Посчитаем корреляцию\n",
    "correlation = round(filtered_data['qty'].corr(daily_income['log_capital']), 3)\n",
    "correlation"
   ]
  },
  {
   "cell_type": "code",
   "execution_count": 265,
   "id": "88723062",
   "metadata": {},
   "outputs": [],
   "source": [
    "daily_income['date'] = pd.to_datetime(daily_income['date'])"
   ]
  },
  {
   "cell_type": "code",
   "execution_count": null,
   "id": "5d694522",
   "metadata": {},
   "outputs": [],
   "source": [
    "df_net_profit['date'] = pd.to_datetime(df_net_profit['date'])"
   ]
  },
  {
   "cell_type": "code",
   "execution_count": 266,
   "id": "3f0b5215",
   "metadata": {},
   "outputs": [],
   "source": [
    "# Подготовка данных для проведения корреляции \n",
    "# Объеденяем датафреймы для синхронизации дат\n",
    "merged_df = pd.merge(filtered_data[['date', 'qty']], daily_income[['date', 'log_capital']], on='date')"
   ]
  },
  {
   "cell_type": "code",
   "execution_count": 267,
   "id": "5cc7a9d2",
   "metadata": {},
   "outputs": [
    {
     "data": {
      "image/png": "[encoded data removed]",
      "text/plain": [
       "<Figure size 1000x600 with 1 Axes>"
      ]
     },
     "metadata": {},
     "output_type": "display_data"
    }
   ],
   "source": [
    "# Построение графика корреляции с линией тренда\n",
    "plt.figure(figsize=(10, 6))\n",
    "sns.regplot(x='qty', y='log_capital', data=merged_df, scatter_kws={'alpha':0.5})\n",
    "plt.title('График корреляции: Объем торгов vs. Логарифмическая доходность')\n",
    "plt.xlabel('Объем торгов')\n",
    "plt.ylabel('Логарифмическая доходность')\n",
    "plt.grid(True)\n",
    "plt.show()"
   ]
  },
  {
   "cell_type": "markdown",
   "id": "47ff25be",
   "metadata": {},
   "source": [
    "### Задание 13\n",
    "Коэффициент Маркстейна, Calmar Ratio"
   ]
  },
  {
   "cell_type": "code",
   "execution_count": 290,
   "id": "32b943f9",
   "metadata": {},
   "outputs": [],
   "source": [
    "# Рассчитаем доходность за период на основе cumulative_income\n",
    "\n",
    "initial_income = daily_income['cumulative_income'].iloc[0]\n",
    "final_income = daily_income['cumulative_income'].iloc[-1]\n",
    "period_return = (final_income / initial_income) - 1"
   ]
  },
  {
   "cell_type": "code",
   "execution_count": 291,
   "id": "b1fbfb08",
   "metadata": {},
   "outputs": [
    {
     "data": {
      "text/plain": [
       "0.05577879102666672"
      ]
     },
     "execution_count": 291,
     "metadata": {},
     "output_type": "execute_result"
    }
   ],
   "source": [
    "period_return"
   ]
  },
  {
   "cell_type": "code",
   "execution_count": 292,
   "id": "c2ea7265",
   "metadata": {},
   "outputs": [],
   "source": [
    "# Экстраполируем доходность на год\n",
    "days_in_period = (daily_income['date'].max() - daily_income['date'].min()).days + 1\n",
    "annual_return = (1 + period_return) ** (365 / days_in_period) - 1"
   ]
  },
  {
   "cell_type": "code",
   "execution_count": 293,
   "id": "b7c19689",
   "metadata": {},
   "outputs": [],
   "source": [
    "# Максимальная просадка \n",
    "max_drawdown = daily_income['drawdown'].max()"
   ]
  },
  {
   "cell_type": "code",
   "execution_count": 295,
   "id": "ec729ba8",
   "metadata": {},
   "outputs": [
    {
     "data": {
      "text/plain": [
       "0.88"
      ]
     },
     "execution_count": 295,
     "metadata": {},
     "output_type": "execute_result"
    }
   ],
   "source": [
    "# Calmar Ratio\n",
    "calmar_ratio = round(annual_return / max_drawdown, 2)\n",
    "calmar_ratio"
   ]
  },
  {
   "cell_type": "markdown",
   "id": "1e0a18bc",
   "metadata": {},
   "source": [
    "# Вывод\n",
    "Наши данные находятся в диапозоне с 24 декабря 2023 года по 12 января 2024 года. \n",
    "\n",
    "Анализ этих данных содержит ключевые показатели и графики, которые дают хорошее представление о работе алгоритмической стратегии. \n",
    "\n",
    "Стратегия показала в общем положительный результат, что свидетельствует о ее потенциале. Однако первый период, к концу 2023 года  был убыточным, что может указывать на недостатки в адаптации к рыночным условиям и неучетом исторических данных предыдущих лет этого периода.\n",
    "\n",
    "Коэффициент Шарпа (на дневной основе) =  0.32, что ниже 1, указывает на то, что стратегия, скорее всего, не компенсирует инвестору риск, связанный с этой стратегией. \n",
    "\n",
    "Calmar Ratio = 0.88 указывает на то, что стратегия имеет умеренное соотношение доходности и риска, с риском, который почти равен доходности. Это не плохой показатель, но он указывает на возможность улучшений, особенно в области управления рисками или оптимизации доходности. Если цель — создать более устойчивую стратегию, стоит стремиться к Calmar Ratio выше 1.\n",
    "\n",
    "Мы посчитали и визуализировали следующее:\n",
    "1) График реализованного баланса. На этом графике мы увидели что с 24 декабря по 31 декабря происходит снижение баланса и с 1 января баланс начинает увеличиваться вплоть до 10 января. Причиной могут быть предновогодние события. \n",
    "\n",
    "2) График реализованной прибыли в % . На этом графике мы видим ту же динамику, что естесственно, и максимальная прибыль = 7.39% и была она 10 января.\n",
    "\n",
    "3) График реализованной просадки в %. На этом графике мы видим, что просадка происходит с 24 декабря по 31 декабря и с 10 января по 12.\n",
    "\n",
    "4) График роста объема торгов. На этих графиках мы видим динамику объемов торгов по дням. График роста объема торгов показал значительные колебания объема, особенно в конце анализируемого периода.\n",
    "\n",
    "5) Показатель максимальной просадки. Дата максимальной просадки: 2023-12-31 . Максимальная просадка: 1.92\n",
    "\n",
    "6) Показатель максимального времени находжения в просадке в полных днях = 8\n",
    "\n",
    "7) Значение дневной волатильности получившегося счета и пополнения счета. \n",
    "\n",
    "- Значение дневной волатильности доходности по состоянию счета: 0.0088 - довольно низкая, что означает, что  доходность относительно стабильно колеблется около среднего значения и что стратегия хорошо подходит для консервативных инвесторов и что может быть преимуществом в условиях неопределенности на рынке. Но также, такая стратегия ограничивает возможность получения более значительных прибылей.\n",
    "- Значение дневной волатильности доходности по приходу прибыли или убытка на счет: 1.56\n",
    "\n",
    "8) Фандинг ( полученный, уплаченый, всего)\n",
    "\n",
    "- Полученный фандинг: 2.84\n",
    "- Уплаченный фандинг: -26.75\n",
    "- Общий фандинг: -23.91\n",
    "\n",
    "Общий фандинг оказался отрицательным, что указывает на то, что стратегия платит больше за удержание позиций, чем получает. Это может негативно сказываться на общей доходности, особенно в долгосрочной перспективе. Возможно стоить оптимизировать стратегию для уменьшения затрат на фандинг.\n",
    "\n",
    "9) NET Profit инвестора при коммисии за успех 35% взымаемой каждое 1 число месяца. Так как за декабрь валовая прибыль неуспешна, тогда 35% за первый период не взимается 1 января. Во втором периоде (1 января - 12 января) также комиссия не взимается, так как новый месяц еще не наступил.\n",
    "\n",
    "- Чистая прибыль за период 1 (24 декабря - 31 декабря) : -57.51\n",
    "- Чистая прибыль за период 2 (1 января - 12 января): 224.8\n",
    "- Общая чистая прибыль: 167.34\n",
    "\n",
    "10)  Коэффициент Шарпа (на дневной основе) =  0.32, что ниже 1, указывает на то, что стратегия, скорее всего, не компенсирует инвестору риск, связанный с этой стратегией.\n",
    "\n",
    "11) На Гистограмме распределения логарифмической доходности можно увидеть:\n",
    "\n",
    "- значение околонулевое \n",
    "- примерно симметричное\n",
    "- на взгляд все-таки кажется что положительных значений больше, что на самом деле так.\n",
    "\n",
    "В целом это подтверждает выводы, сделанные ранее по сбалансированной и консервативной стратегии.\n",
    "\n",
    "12) Коэффициент корреляции 0.079 указывает на отсутствие значимой линейной зависимости между объемом торгов и логарифмической доходностью. График с почти горизонтальной линией тренда подтверждает это наблюдение. Широкий доверительный интервал вокруг линии тренда также может указывать на значительную неопределенность и вариативность в данных. Это все означает, что изменение объема торгов практически не связано с изменением логарифмической доходности.\n",
    "\n",
    "13) Calmar Ratio = 0.88. Значение 0.88 указывает на то, что за каждый процент максимальной просадки стратегия приносит 0.88% годовой доходности. Это значит, что стратегия имеет доходность, сопоставимую с уровнем риска, но не значительно превышает его. Лучше стремиться к Calmar Ratio выше 1."
   ]
  }
 ],
 "metadata": {
  "kernelspec": {
   "display_name": "Python 3 (ipykernel)",
   "language": "python",
   "name": "python3"
  },
  "language_info": {
   "codemirror_mode": {
    "name": "ipython",
    "version": 3
   },
   "file_extension": ".py",
   "mimetype": "text/x-python",
   "name": "python",
   "nbconvert_exporter": "python",
   "pygments_lexer": "ipython3",
   "version": "3.9.13"
  }
 },
 "nbformat": 4,
 "nbformat_minor": 5
}
